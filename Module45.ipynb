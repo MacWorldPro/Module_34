{
  "nbformat": 4,
  "nbformat_minor": 0,
  "metadata": {
    "colab": {
      "provenance": [],
      "authorship_tag": "ABX9TyNjOBiMkd2N+hPME5jqFXoO",
      "include_colab_link": true
    },
    "kernelspec": {
      "name": "python3",
      "display_name": "Python 3"
    },
    "language_info": {
      "name": "python"
    }
  },
  "cells": [
    {
      "cell_type": "markdown",
      "metadata": {
        "id": "view-in-github",
        "colab_type": "text"
      },
      "source": [
        "<a href=\"https://colab.research.google.com/github/MacWorldPro/Module_34/blob/main/Module45.ipynb\" target=\"_parent\"><img src=\"https://colab.research.google.com/assets/colab-badge.svg\" alt=\"Open In Colab\"/></a>"
      ]
    },
    {
      "cell_type": "markdown",
      "source": [
        "Q1:\n",
        "\n",
        "PMF is used for the representing the distribution of dicrete values and PDF is for continuous values.\n",
        "PMF: Probability of rolling a specific number on a die.\n",
        "PDF: The probability distribution describing the range of students' heights."
      ],
      "metadata": {
        "id": "g-8KarKDabVP"
      }
    },
    {
      "cell_type": "markdown",
      "source": [
        "Q2:\n",
        "\n",
        "CDF transforms the PMF (for discrete variables) or PDF (for continuous variables) into a cumulative form. This allows for the easy calculation of the probability of a random variable falling within a specified range. For instance, the CDF at a certain point\n",
        "𝑥\n",
        "x tells us the probability that the random variable\n",
        "𝑋\n",
        "X is less than or equal to\n",
        "𝑥\n",
        "x. This function is crucial for determining probabilities over intervals and for overall understanding of the distribution's behavior."
      ],
      "metadata": {
        "id": "cNj01_bva9iV"
      }
    },
    {
      "cell_type": "markdown",
      "source": [
        "Q3:\n",
        "\n",
        "The normal distribution, also known as the Gaussian distribution, is crucial for modeling continuous random variables such as student heights. In this model, the mean (μ) locates the center of the distribution, while the variance (and thus the standard deviation, σ) indicates the spread of data around the mean. Specifically, about 68% of the data falls within one standard deviation of the mean, 95% within two, and 99.7% within three standard deviations, illustrating how data clusters around the mean and tails off towards the extremes."
      ],
      "metadata": {
        "id": "9DavLzW3dicM"
      }
    },
    {
      "cell_type": "markdown",
      "source": [
        "Q4:\n",
        "\n",
        "The normal distribution, also known as the Gaussian distribution, is essential for modeling continuous random variables like student heights. The mean (μ) determines the distribution's center, while the variance (and standard deviation, σ) indicates data spread. This distribution's versatility is seen in finance, manufacturing, and more, aided by the central limit theorem"
      ],
      "metadata": {
        "id": "6Dmt3NBifpVV"
      }
    },
    {
      "cell_type": "markdown",
      "source": [
        "Q5:\n",
        "\n",
        "The Bernoulli distribution represents a discrete random variable with binary outcomes, often denoted as success or failure. It's characterized by a single parameter\n",
        "𝑝\n",
        "p representing the probability of success. The key difference between Bernoulli and binomial distributions is that Bernoulli is for a single trial, while binomial extends to multiple trials, counting the total number of successes."
      ],
      "metadata": {
        "id": "5XPCwn5vhnYi"
      }
    },
    {
      "cell_type": "markdown",
      "source": [
        "Q6:\n",
        "\n",
        "To find the probability that a randomly selected observation from a normally distributed dataset with a mean (\\(\\mu\\)) of 50 and a standard deviation (\\(\\sigma\\)) of 10 will be greater than 60, we need to use the standard normal distribution and the Z-score formula.\n",
        "\n",
        "The Z-score formula is:\n",
        "\n",
        "\\[ Z = \\frac{x - \\mu}{\\sigma} \\]\n",
        "\n",
        "Where:\n",
        "- \\( x \\) is the value we are interested in (in this case, 60),\n",
        "- \\( \\mu \\) is the mean of the distribution (50),\n",
        "- \\( \\sigma \\) is the standard deviation of the distribution (10).\n",
        "\n",
        "First, we calculate the Z-score for \\( x = 60 \\):\n",
        "\n",
        "\\[ Z = \\frac{60 - 50}{10} = 1 \\]\n",
        "\n",
        "Now, we need to find the probability of a Z-score greater than 1. We can use a standard normal distribution table or a calculator to find this probability. In a standard normal distribution table, the probability associated with a Z-score of 1 (or any positive value) represents the area under the curve to the right of that Z-score.\n",
        "\n",
        "From a standard normal distribution table or calculator, we find that the probability of a Z-score greater than 1 is approximately 0.1587.\n",
        "\n",
        "So, the probability that a randomly selected observation will be greater than 60 is approximately 0.1587."
      ],
      "metadata": {
        "id": "ygfQUpFXnkgq"
      }
    },
    {
      "cell_type": "markdown",
      "source": [
        "Q7:\n",
        "\n",
        "The uniform distribution is characterized by a constant probability density function over a specified range, where all outcomes within that range are equally likely. For example, a fair six-sided die illustrates this distribution, with each face having an equal chance of landing face-up. It's fundamental in random number generation and sampling methods."
      ],
      "metadata": {
        "id": "PTin-32xoH94"
      }
    },
    {
      "cell_type": "markdown",
      "source": [
        "Q8:\n",
        "\n",
        "The Z-score standardizes data points from any normal distribution to the standard normal distribution (with a mean of 0 and standard deviation of 1). Its importance lies in statistical analysis, hypothesis testing, and outlier detection, facilitating interpretation and comparison of data across different distributions."
      ],
      "metadata": {
        "id": "fySXl8JNo1ZS"
      }
    },
    {
      "cell_type": "markdown",
      "source": [
        "Q9:\n",
        "\n",
        "The Central Limit Theorem (CLT) states that the sampling distribution of the mean will be approximately normally distributed, regardless of the shape of the population distribution, given a sufficiently large sample size. This applies to various population distributions, like normal, Poisson, or binomial. It's a fundamental concept in statistics, enabling robust statistical inference across diverse fields."
      ],
      "metadata": {
        "id": "VK3szfswp58c"
      }
    },
    {
      "cell_type": "markdown",
      "source": [
        "Q10:\n",
        "\n",
        "The Central Limit Theorem assumes random sampling, independence between observations, and a finite population variance. It applies to any population distribution, ensuring that the sampling distribution of the mean becomes approximately normal as the sample size increases sufficiently."
      ],
      "metadata": {
        "id": "66rjNp5KqwvG"
      }
    },
    {
      "cell_type": "code",
      "execution_count": null,
      "metadata": {
        "id": "PVaSx5bJCYIF"
      },
      "outputs": [],
      "source": []
    }
  ]
}