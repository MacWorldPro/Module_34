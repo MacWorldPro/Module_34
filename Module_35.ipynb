{
  "nbformat": 4,
  "nbformat_minor": 0,
  "metadata": {
    "colab": {
      "provenance": [],
      "authorship_tag": "ABX9TyOUiBsumjHo1sEi9NyTOJ6W",
      "include_colab_link": true
    },
    "kernelspec": {
      "name": "python3",
      "display_name": "Python 3"
    },
    "language_info": {
      "name": "python"
    }
  },
  "cells": [
    {
      "cell_type": "markdown",
      "metadata": {
        "id": "view-in-github",
        "colab_type": "text"
      },
      "source": [
        "<a href=\"https://colab.research.google.com/github/MacWorldPro/Module_34/blob/main/Module_35.ipynb\" target=\"_parent\"><img src=\"https://colab.research.google.com/assets/colab-badge.svg\" alt=\"Open In Colab\"/></a>"
      ]
    },
    {
      "cell_type": "code",
      "execution_count": 1,
      "metadata": {
        "id": "zLa-7wfpx4JH"
      },
      "outputs": [],
      "source": [
        "import numpy as np\n",
        "list_=['1','2','3','4','5']\n",
        "array_list = np.array(object = list_)"
      ]
    },
    {
      "cell_type": "markdown",
      "source": [
        "Q1:\n",
        "\n",
        "There is difference"
      ],
      "metadata": {
        "id": "5NfntiyazMrD"
      }
    },
    {
      "cell_type": "code",
      "source": [
        "print(\"list_ datatype: \",type(list_))\n",
        "print(\"array_list datatype: \",type(array_list))"
      ],
      "metadata": {
        "id": "8dOUNF5oydcR"
      },
      "execution_count": null,
      "outputs": []
    },
    {
      "cell_type": "markdown",
      "source": [
        "Q2:\n"
      ],
      "metadata": {
        "id": "kG7zd3F4zkRL"
      }
    },
    {
      "cell_type": "code",
      "source": [
        "for item in list_:\n",
        "    print(type(item))"
      ],
      "metadata": {
        "id": "R13GUq_yzobb"
      },
      "execution_count": null,
      "outputs": []
    },
    {
      "cell_type": "code",
      "source": [
        "for item in array_list:\n",
        "    print(type(item))"
      ],
      "metadata": {
        "id": "D8UlQDps0kPR"
      },
      "execution_count": null,
      "outputs": []
    },
    {
      "cell_type": "markdown",
      "source": [
        "Q3:"
      ],
      "metadata": {
        "id": "HX-XS21pz9EJ"
      }
    },
    {
      "cell_type": "code",
      "source": [
        "array_list = np.array(object = list_, dtype = int)"
      ],
      "metadata": {
        "id": "Sr29jMLqz-IG"
      },
      "execution_count": 11,
      "outputs": []
    },
    {
      "cell_type": "markdown",
      "source": [
        "Yes there will be difference"
      ],
      "metadata": {
        "id": "j5VZpXJZ06_G"
      }
    },
    {
      "cell_type": "code",
      "source": [
        "# List\n",
        "for item in list_:\n",
        "    print(type(item))"
      ],
      "metadata": {
        "id": "l4aGLlCN0wUH"
      },
      "execution_count": null,
      "outputs": []
    },
    {
      "cell_type": "code",
      "source": [
        "for item in array_list:\n",
        "    print(type(item))"
      ],
      "metadata": {
        "id": "e2OfYJBn1BQp"
      },
      "execution_count": null,
      "outputs": []
    },
    {
      "cell_type": "code",
      "source": [
        "num_list = [ [ 1 , 2 , 3 ] , [ 4 , 5 , 6 ] ]\n",
        "num_array = np.array(object = num_list)"
      ],
      "metadata": {
        "id": "cy-6hznC1ICN"
      },
      "execution_count": 14,
      "outputs": []
    },
    {
      "cell_type": "markdown",
      "source": [
        "Q4:"
      ],
      "metadata": {
        "id": "UQYEVC1U1Sp2"
      }
    },
    {
      "cell_type": "code",
      "source": [
        "# Shape\n",
        "num_array.shape\n",
        "# size\n",
        "num_array.size"
      ],
      "metadata": {
        "id": "fN3ScN8u1TvE"
      },
      "execution_count": null,
      "outputs": []
    },
    {
      "cell_type": "markdown",
      "source": [
        "Q5:"
      ],
      "metadata": {
        "id": "B-OE713g1mBp"
      }
    },
    {
      "cell_type": "code",
      "source": [
        "zero_array = np.zeros((3, 3))"
      ],
      "metadata": {
        "id": "1JXkYH5T1nMR"
      },
      "execution_count": 17,
      "outputs": []
    },
    {
      "cell_type": "markdown",
      "source": [
        "Q6:"
      ],
      "metadata": {
        "id": "CE_cFHTt12pB"
      }
    },
    {
      "cell_type": "code",
      "source": [
        "identity=np.eye(5,5)"
      ],
      "metadata": {
        "id": "CplOw8JN13rn"
      },
      "execution_count": 18,
      "outputs": []
    }
  ]
}