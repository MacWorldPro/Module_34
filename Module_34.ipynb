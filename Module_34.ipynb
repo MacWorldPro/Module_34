{
  "nbformat": 4,
  "nbformat_minor": 0,
  "metadata": {
    "colab": {
      "provenance": [],
      "authorship_tag": "ABX9TyPzBkI/FsqIijhcEVFwXHrR",
      "include_colab_link": true
    },
    "kernelspec": {
      "name": "python3",
      "display_name": "Python 3"
    },
    "language_info": {
      "name": "python"
    }
  },
  "cells": [
    {
      "cell_type": "markdown",
      "metadata": {
        "id": "view-in-github",
        "colab_type": "text"
      },
      "source": [
        "<a href=\"https://colab.research.google.com/github/MacWorldPro/Module_34/blob/main/Module_34.ipynb\" target=\"_parent\"><img src=\"https://colab.research.google.com/assets/colab-badge.svg\" alt=\"Open In Colab\"/></a>"
      ]
    },
    {
      "cell_type": "code",
      "execution_count": null,
      "metadata": {
        "id": "ouSlAWK6LK1V"
      },
      "outputs": [],
      "source": [
        "import pandas as pd\n",
        "course_name = [\"Data Science\", \"Machine Learning\", \"Big Data\", \"Data Engineer\"]\n",
        "duration = [2,3,6,4]\n",
        "df = pd.DataFrame(data = {\"course_name\" : course_name, \"duration\" : duration})"
      ]
    },
    {
      "cell_type": "markdown",
      "source": [
        "Q1:"
      ],
      "metadata": {
        "id": "PYSnodlwMH-i"
      }
    },
    {
      "cell_type": "code",
      "source": [
        "df.iloc[1]"
      ],
      "metadata": {
        "id": "UNJXPYypMJHt"
      },
      "execution_count": null,
      "outputs": []
    },
    {
      "cell_type": "markdown",
      "source": [
        "Q2:\n",
        "\n",
        "loc: This method is primarily label-based, which means you use labels (row/column names) to access data. With loc, you specify the index label of the row or column you want to access.\n",
        "\n",
        "iloc: This method is primarily integer-based, which means you use integer indices to access data. With iloc, you specify the integer position of the row or column you want to access."
      ],
      "metadata": {
        "id": "MyljLEmkMyvL"
      }
    },
    {
      "cell_type": "markdown",
      "source": [
        "Q3:"
      ],
      "metadata": {
        "id": "ky8O_jMVNERH"
      }
    },
    {
      "cell_type": "code",
      "source": [
        "reindex=[3,0,1,2]\n",
        "new_df=df.reindex(reindex)\n",
        "\n"
      ],
      "metadata": {
        "id": "EtsLOxFhNFeT"
      },
      "execution_count": null,
      "outputs": []
    },
    {
      "cell_type": "code",
      "source": [
        "new_df.loc[2]"
      ],
      "metadata": {
        "colab": {
          "base_uri": "https://localhost:8080/"
        },
        "id": "HyaHejViNkLn",
        "outputId": "088af9c1-17ad-4091-9517-33c19b27be70"
      },
      "execution_count": null,
      "outputs": [
        {
          "output_type": "execute_result",
          "data": {
            "text/plain": [
              "course_name    Big Data\n",
              "duration              6\n",
              "Name: 2, dtype: object"
            ]
          },
          "metadata": {},
          "execution_count": 7
        }
      ]
    },
    {
      "cell_type": "code",
      "source": [
        "new_df.iloc[2]"
      ],
      "metadata": {
        "colab": {
          "base_uri": "https://localhost:8080/"
        },
        "id": "5kYPdtcoNvwg",
        "outputId": "2d30162e-ba83-4654-bfdb-9a99954c1d79"
      },
      "execution_count": null,
      "outputs": [
        {
          "output_type": "execute_result",
          "data": {
            "text/plain": [
              "course_name    Machine Learning\n",
              "duration                      3\n",
              "Name: 1, dtype: object"
            ]
          },
          "metadata": {},
          "execution_count": 8
        }
      ]
    },
    {
      "cell_type": "markdown",
      "source": [
        "There is a difference in the two outputs as when using loc it gives output based on name of the row column and when using iloc it gives based on predefined index of the dataFrame."
      ],
      "metadata": {
        "id": "_6vuNaa4N9Tn"
      }
    },
    {
      "cell_type": "code",
      "source": [
        "import pandas as pd\n",
        "import numpy as np\n",
        "columns = ['column_1', 'column_2', 'column_3', 'column_4', 'column_5', 'column_6']\n",
        "indices = [1,2,3,4,5,6]\n",
        "#Creating a dataframe:\n",
        "df1 = pd.DataFrame(np.random.rand(6,6), columns = columns, index = indices)"
      ],
      "metadata": {
        "id": "mo8exTXOOVx2"
      },
      "execution_count": null,
      "outputs": []
    },
    {
      "cell_type": "markdown",
      "source": [
        "Q4:"
      ],
      "metadata": {
        "id": "sblPI_VtPlJS"
      }
    },
    {
      "cell_type": "code",
      "source": [
        "# To calculate mean of each and every column\n",
        "df1.mean()"
      ],
      "metadata": {
        "colab": {
          "base_uri": "https://localhost:8080/"
        },
        "id": "xAZcAj_qOpH1",
        "outputId": "b9de4f6a-c76c-452a-887f-5b9b763233cc"
      },
      "execution_count": null,
      "outputs": [
        {
          "output_type": "execute_result",
          "data": {
            "text/plain": [
              "column_1    0.760943\n",
              "column_2    0.422978\n",
              "column_3    0.396137\n",
              "column_4    0.396337\n",
              "column_5    0.555510\n",
              "column_6    0.384708\n",
              "dtype: float64"
            ]
          },
          "metadata": {},
          "execution_count": 11
        }
      ]
    },
    {
      "cell_type": "code",
      "source": [
        "# To calculate standard deviation of column 2\n",
        "df1['column_2'].std()"
      ],
      "metadata": {
        "colab": {
          "base_uri": "https://localhost:8080/"
        },
        "id": "OIdgFiktPYMJ",
        "outputId": "2d93b9c3-ee97-4a81-a47a-09aaba88c167"
      },
      "execution_count": null,
      "outputs": [
        {
          "output_type": "execute_result",
          "data": {
            "text/plain": [
              "0.26111059225983124"
            ]
          },
          "metadata": {},
          "execution_count": 12
        }
      ]
    },
    {
      "cell_type": "markdown",
      "source": [
        "Q5:"
      ],
      "metadata": {
        "id": "jeyEEpxAPnXv"
      }
    },
    {
      "cell_type": "code",
      "source": [
        "df1['column_2'].loc[2]=\"MacWorld\"\n",
        "df1"
      ],
      "metadata": {
        "id": "8S9QsgI8PorM"
      },
      "execution_count": null,
      "outputs": []
    },
    {
      "cell_type": "code",
      "source": [
        "df1['column_2'].mean()"
      ],
      "metadata": {
        "id": "-uYHNe5YQAx3"
      },
      "execution_count": null,
      "outputs": []
    },
    {
      "cell_type": "markdown",
      "source": [
        "I am getting error because mean function only works on numerical data and we have provided a string value"
      ],
      "metadata": {
        "id": "hetBHjskQOw9"
      }
    },
    {
      "cell_type": "markdown",
      "source": [],
      "metadata": {
        "id": "O94gyeJZQXhe"
      }
    },
    {
      "cell_type": "markdown",
      "source": [
        "Q6:\n",
        "\n",
        "In Pandas, a window function (also known as rolling or moving function) is a method that performs calculations on a specified subset of a DataFrame, typically over a rolling window of data points. These functions are particularly useful for time series data and can provide insights into trends and patterns.\n",
        "\n",
        "Here's what you need to understand about window functions in Pandas:\n",
        "\n",
        "1. **Rolling Window**: A rolling window is a fixed-size window that slides over the data. For each position of the window, a computation is performed on the data within that window. The size of the window determines how many data points are included in each calculation.\n",
        "\n",
        "2. **Centered vs. Left-Aligned**: Window functions can be centered or left-aligned. In a centered window, the calculation is performed at the center of the window. In a left-aligned window, the calculation is performed using the data points to the left of the window.\n",
        "\n",
        "3. **Aggregation Functions**: Window functions typically involve aggregation functions such as mean, sum, median, min, max, etc. These functions compute a single value based on the data within the window.\n",
        "\n",
        "4. **Rolling vs. Expanding Windows**: Rolling windows have a fixed size, while expanding windows grow in size over time. Rolling windows maintain a constant size as they move along the data, while expanding windows include all data points up to the current position.\n",
        "\n",
        "Types of window functions in Pandas:\n",
        "\n",
        "1. **rolling()**: This function is used to create a rolling window object. It is followed by an aggregation function such as mean, sum, etc., to perform calculations within the window.\n",
        "\n",
        "2. **expanding()**: This function is used to create an expanding window object. It includes all data points up to the current position and can be followed by an aggregation function.\n",
        "\n",
        "3. **ewm()**: This function is used for exponential weighted functions. It assigns exponentially decreasing weights to the data points within the window, with the weights decaying exponentially as you move further away from the current point.\n",
        "\n",
        "4. **groupby() with rolling() or expanding()**: You can also combine groupby operations with rolling or expanding windows to perform calculations within each group.\n",
        "\n",
        "These window functions provide powerful tools for analyzing time series and other sequential data in Pandas."
      ],
      "metadata": {
        "id": "ILmzozLjQe0c"
      }
    },
    {
      "cell_type": "markdown",
      "source": [
        "Q7:"
      ],
      "metadata": {
        "id": "JgH5KUpVQ81K"
      }
    },
    {
      "cell_type": "code",
      "source": [
        "def curr():\n",
        "  # Get the current date\n",
        "  current_date = datetime.now()\n",
        "\n",
        "# Extract the current month and year\n",
        "  current_month = current_date.month\n",
        "  current_year = current_date.year\n",
        "\n",
        "# Print the current month and year\n",
        "  print(\"Current month:\", current_month)\n",
        "  print(\"Current year:\", current_year)"
      ],
      "metadata": {
        "id": "Cd2mc9ggQ_H0"
      },
      "execution_count": null,
      "outputs": []
    },
    {
      "cell_type": "markdown",
      "source": [
        "Q8:"
      ],
      "metadata": {
        "id": "VHTSOGaoRcy9"
      }
    },
    {
      "cell_type": "code",
      "source": [
        "def result():\n",
        "  datea=pd.to_date(input(\"Enter the datea in (in the format YYYY-MM-DD)\"))\n",
        "  dateb=pd.to_date(input(\"Enter the dateb in (in the format YYYY-MM-DD)\"))\n",
        "  date_diff=dateb-datea\n",
        "  days=date_diff.days\n",
        "  hours=date_diff.hours\n",
        "  minutes=date_diff.minutes\n"
      ],
      "metadata": {
        "id": "hP0pp3k6Rd89"
      },
      "execution_count": null,
      "outputs": []
    },
    {
      "cell_type": "markdown",
      "source": [
        "Q9:"
      ],
      "metadata": {
        "id": "cuIhlP5QT64b"
      }
    },
    {
      "cell_type": "code",
      "source": [
        "import pandas as pd\n",
        "\n",
        "def convert_to_categorical(df, column_name, category_order):\n",
        "    # Convert the specified column to categorical with the given category order\n",
        "    df[column_name] = pd.Categorical(df[column_name], categories=category_order, ordered=True)\n",
        "    return df\n",
        "\n",
        "# Function to sort the DataFrame based on the specified column\n",
        "def sort_dataframe(df, column_name):\n",
        "    return df.sort_values(by=column_name)\n",
        "\n",
        "\n",
        "file_path = input(\"Enter the path to the CSV file: \")\n",
        "column_name = input(\"Enter the name of the column to convert to categorical data type: \")\n",
        "category_order_str = input(\"Enter the category order (comma-separated values): \")\n",
        "category_order = [x.strip() for x in category_order_str.split(',')]\n",
        "\n",
        "# Read the CSV file\n",
        "try:\n",
        "    df = pd.read_csv(file_path)\n",
        "except FileNotFoundError:\n",
        "    print(\"File not found. Please check the file path.\")\n",
        "    exit()\n",
        "\n",
        "# Convert the specified column to categorical data type\n",
        "df = convert_to_categorical(df, column_name, category_order)\n",
        "\n",
        "# Sort the DataFrame based on the specified column\n",
        "sorted_df = sort_dataframe(df, column_name)\n",
        "\n",
        "# Display the sorted data\n",
        "print(\"\\nSorted data based on column '{}':\".format(column_name))\n",
        "print(sorted_df)"
      ],
      "metadata": {
        "id": "iIypPq4zT8L_"
      },
      "execution_count": null,
      "outputs": []
    },
    {
      "cell_type": "markdown",
      "source": [
        "Q10:"
      ],
      "metadata": {
        "id": "VWEVfL_VUuYG"
      }
    },
    {
      "cell_type": "code",
      "source": [
        "import pandas as pd\n",
        "import matplotlib.pyplot as plt\n",
        "\n",
        "\n",
        "def visualize_sales_data(file_path):\n",
        "    try:\n",
        "\n",
        "        df = pd.read_csv(file_path)\n",
        "\n",
        "\n",
        "        df['Date'] = pd.to_datetime(df['Date'])\n",
        "\n",
        "\n",
        "        pivot_df = df.pivot_table(index='Date', columns='Product_Category', values='Sales', aggfunc='sum', fill_value=0)\n",
        "\n",
        "\n",
        "        pivot_df.plot(kind='bar', stacked=True, figsize=(10, 6))\n",
        "        plt.title('Sales of Each Product Category Over Time')\n",
        "        plt.xlabel('Date')\n",
        "        plt.ylabel('Sales')\n",
        "        plt.xticks(rotation=45)\n",
        "        plt.legend(title='Product Category')\n",
        "        plt.show()\n",
        "\n",
        "    except FileNotFoundError:\n",
        "        print(\"File not found. Please check the file path.\")\n",
        "    except Exception as e:\n",
        "        print(\"An error occurred:\", str(e))\n",
        "\n",
        "\n",
        "file_path = input(\"Enter the path to the CSV file: \")\n",
        "\n",
        "# Visualize sales data\n",
        "visualize_sales_data(file_path)\n"
      ],
      "metadata": {
        "id": "2f2wX5YSUvyh"
      },
      "execution_count": null,
      "outputs": []
    },
    {
      "cell_type": "markdown",
      "source": [
        "Q11:"
      ],
      "metadata": {
        "id": "9naLux3EWfKJ"
      }
    },
    {
      "cell_type": "code",
      "source": [
        "def calc(file_path):\n",
        "  try:\n",
        "    df=pd.read_csv(file_path)\n",
        "    Mean=df['Test Score'].mean()\n",
        "    Median=df['Test Score'].median()\n",
        "    Mode=df['Test Score'].mode()\n",
        "    display( Mean,Median,Mode)\n",
        "\n",
        "\n",
        "  except Exception as e:\n",
        "      print(\"An error occurred:\", str(e))\n",
        "\n",
        "def diaplay(Mean,Median,Mode):\n",
        "   statistics_table = pd.DataFrame({\n",
        "        'Statistic': ['Mean', 'Median', 'Mode'],\n",
        "        'Score': [Mean, Median, Mode.values]})\n",
        "   print(statistics_table)\n",
        "\n",
        "file_path = input(\"Enter the path to the CSV file: \")\n",
        "calc(file_path)"
      ],
      "metadata": {
        "id": "vbUXSwnxWgg6"
      },
      "execution_count": null,
      "outputs": []
    }
  ]
}