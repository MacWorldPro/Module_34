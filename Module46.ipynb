{
  "nbformat": 4,
  "nbformat_minor": 0,
  "metadata": {
    "colab": {
      "provenance": [],
      "authorship_tag": "ABX9TyMldFXv27hP1VITiLdBMMVh",
      "include_colab_link": true
    },
    "kernelspec": {
      "name": "python3",
      "display_name": "Python 3"
    },
    "language_info": {
      "name": "python"
    }
  },
  "cells": [
    {
      "cell_type": "markdown",
      "metadata": {
        "id": "view-in-github",
        "colab_type": "text"
      },
      "source": [
        "<a href=\"https://colab.research.google.com/github/MacWorldPro/Module_34/blob/main/Module46.ipynb\" target=\"_parent\"><img src=\"https://colab.research.google.com/assets/colab-badge.svg\" alt=\"Open In Colab\"/></a>"
      ]
    },
    {
      "cell_type": "markdown",
      "source": [
        "Q1:\n",
        "\n",
        "It is an observed numerical value used to estimate an unknown population parameter.\n",
        "\n",
        "Point Estimate: Single numerical value used to estimate the unknown population parameter.\n",
        "\n",
        "Interval Estimate: Range of value used to estimate the unknown population parameter."
      ],
      "metadata": {
        "id": "sw0H56H2fSE_"
      }
    },
    {
      "cell_type": "code",
      "source": [
        "# Q2:\n",
        "\n",
        "import numpy as np\n",
        "\n",
        "def estimate_population_mean(sample):\n",
        "    sample_mean = np.mean(sample)\n",
        "    sample_std_dev = np.std(sample, ddof=1)\n",
        "    n = len(sample)\n",
        "    sem = sample_std_dev / np.sqrt(n)\n",
        "    return sample_mean, sem\n"
      ],
      "metadata": {
        "id": "zPyPGBYage22"
      },
      "execution_count": 1,
      "outputs": []
    },
    {
      "cell_type": "markdown",
      "source": [
        "Q3:\n",
        "\n",
        "Hypothesis testing is a fundamental statistical method used to make inferences or draw conclusions about population parameters based on sample data. It is critically important because it's often impractical or impossible to gather data from an entire population. Hypothesis testing involves formulating a null hypothesis, which represents a default position or a statement of no effect, and an alternative hypothesis, which suggests some effect or difference. By analyzing sample data through this framework, we can decide whether the evidence supports the default position or suggests a significant effect, all while controlling the probability of making errors. This method is essential not only for validating assumptions but also for ensuring the efficient use of resources, managing risk, and providing a structured approach to data analysis in various fields like medicine, business, and public policy.\n",
        "\n"
      ],
      "metadata": {
        "id": "hBmIkcNjf26n"
      }
    },
    {
      "cell_type": "markdown",
      "source": [
        "Q4:\n",
        "\n",
        "Step1: Defining NULL Hypothesis: Considering average male weight is greater than female weight.\n",
        "\n",
        "Step2: Alternate Hypothesis: Considering neagtion of NULL Hypothesis.\n",
        "\n",
        "Step3: Doing experiments based on z, t or p tests.\n",
        "\n",
        "Step4: Accepting or rejecting the NULL Hypothesis."
      ],
      "metadata": {
        "id": "B8pFI5aaiicV"
      }
    },
    {
      "cell_type": "code",
      "execution_count": null,
      "metadata": {
        "id": "CYmX7Q_xfKXN"
      },
      "outputs": [],
      "source": [
        "# Q5:\n",
        "\n",
        "import numpy as np\n",
        "from scipy import stats\n",
        "\n",
        "def conduct_hypothesis_test(sample1, sample2, alpha=0.05):\n",
        "    t_stat, p_value = stats.ttest_ind(sample1, sample2, equal_var=False)\n",
        "    decision = 'Reject the null hypothesis' if p_value < alpha else 'Fail to reject the null hypothesis'\n",
        "    return {\n",
        "        't_statistic': t_stat,\n",
        "        'p_value': p_value,\n",
        "        'decision': decision\n",
        "    }\n"
      ]
    },
    {
      "cell_type": "markdown",
      "source": [
        "Q6:\n",
        "\n",
        "Null Hypothesis: It is the statement that we need to consider at the start of hypothesis testing.\n",
        "\n",
        "Aternate Hypothesis: It is the negation of NUll Hypothesis statement."
      ],
      "metadata": {
        "id": "bf3obPr_jfoS"
      }
    },
    {
      "cell_type": "markdown",
      "source": [
        "Q7:\n",
        "\n",
        "Step1: Defining NULL Hypothesis.\n",
        "\n",
        "Step2: Alternate Hypothesis: Considering neagtion of NULL Hypothesis.\n",
        "\n",
        "Step3: Doing experiments based on z, t or p tests.\n",
        "\n",
        "Step4: Accepting or rejecting the NULL Hypothesis."
      ],
      "metadata": {
        "id": "2QtxpXg2jzIQ"
      }
    },
    {
      "cell_type": "markdown",
      "source": [
        "Q8:\n",
        "\n",
        "It is a number , calculated from a statistical test that describes how likely you are to have found a particular set of observations if the null hypothesis were true. They are basically used to decide whether to reject or accept the null hypothesis. If p_value less than significance value we regect the null Hypothesis."
      ],
      "metadata": {
        "id": "Cku73rN_j7jv"
      }
    },
    {
      "cell_type": "code",
      "source": [
        "# Q9:\n",
        "\n",
        "import numpy as np\n",
        "import matplotlib.pyplot as plt\n",
        "from scipy.stats import t\n",
        "\n",
        "\n",
        "degrees_of_freedom = 10\n",
        "x = np.linspace(-5, 5, 400)\n",
        "\n",
        "pdf_values = t.pdf(x, degrees_of_freedom)\n",
        "\n",
        "\n",
        "plt.figure(figsize=(8, 4))\n",
        "plt.plot(x, pdf_values, label=f't-distribution df={degrees_of_freedom}')\n",
        "plt.title(\"PDF of Student's t-distribution\")\n",
        "plt.xlabel('x')\n",
        "plt.ylabel('Probability Density')\n",
        "plt.grid(True)\n",
        "plt.legend()\n",
        "plt.show()\n"
      ],
      "metadata": {
        "id": "2JsZLouwlm11"
      },
      "execution_count": null,
      "outputs": []
    },
    {
      "cell_type": "code",
      "source": [
        "# Q10:\n",
        "\n",
        "import numpy as np\n",
        "from scipy import stats\n",
        "\n",
        "def two_sample_t_test(sample1, sample2, alpha=0.05):\n",
        "    t_stat, p_value = stats.ttest_ind(sample1, sample2)\n",
        "    if p_value < alpha:\n",
        "        decision = 'Reject the null hypothesis'\n",
        "    else:\n",
        "        decision = 'Fail to reject the null hypothesis'\n",
        "    return {\n",
        "        't_statistic': t_stat,\n",
        "        'p_value': p_value,\n",
        "        'decision': decision\n",
        "    }\n"
      ],
      "metadata": {
        "id": "Opqqqg2smJRZ"
      },
      "execution_count": 3,
      "outputs": []
    },
    {
      "cell_type": "markdown",
      "source": [
        "Q11:\n",
        "\n",
        "\n",
        "The Student's t-distribution, often simply referred to as the t-distribution, is a probability distribution that arises in statistics.It is often used when the when the sample size is small ro when population standard deviation is not given."
      ],
      "metadata": {
        "id": "_ld6SBnCmIt_"
      }
    },
    {
      "cell_type": "markdown",
      "source": [
        "Q12:\n",
        "\n",
        "The Student's t-distribution, often simply referred to as the t-distribution, is a probability distribution that arises in statistics.It is often used when the when the sample size is small ro when population standard deviation is not given.\n",
        "\n",
        "t=(x-u)/s/sqrt(n) where x is given mean , s is sample standard deviation, n is sample size."
      ],
      "metadata": {
        "id": "doVLilHslluB"
      }
    },
    {
      "cell_type": "markdown",
      "source": [
        "Q13:\n",
        "\n",
        "95% Confidence Interval for Population Mean Revenue: ($490.44, $509.56)\n"
      ],
      "metadata": {
        "id": "NM47yZneolPW"
      }
    },
    {
      "cell_type": "markdown",
      "source": [
        "Q14:\n",
        "\n",
        "We reject the null hypothesis. It is a question of student t distribution."
      ],
      "metadata": {
        "id": "Bj9uz7udonCI"
      }
    },
    {
      "cell_type": "markdown",
      "source": [
        "Q15:\n",
        "\n",
        "We got p_value=0.0456 which is greter than significance value so we accept the null hypotheis that true mean weight of the products < 5 pounds."
      ],
      "metadata": {
        "id": "j18a3iKSrEuT"
      }
    },
    {
      "cell_type": "markdown",
      "source": [
        "Q16:\n",
        "\n",
        "To test the hypothesis that the mean scores of the two groups are equal, we can conduct an independent samples t-test since we have two separate groups (Group A and Group B) and want to compare their means. The null hypothesis (H0) is that the means are equal, and the alternative hypothesis (H1) is that the means are not equal.\n",
        "\n",
        "\n",
        "Here are the steps for performing the t-test:\n",
        "\n",
        "\n",
        "Step 1: State the hypotheses:\n",
        "\n",
        "- Null hypothesis (H0): The mean scores of Group A and Group B are equal (μA = μB).\n",
        "\n",
        "- Alternative hypothesis (H1): The mean scores of Group A and Group B are not equal (μA ≠ μB).\n",
        "\n",
        "\n",
        "Step 2: Set the significance level (α):\n",
        "\n",
        "The significance level is given as 0.05 (or 5%).\n",
        "\n",
        "\n",
        "Step 3: Compute the test statistic:\n",
        "\n",
        "The formula for the independent samples t-test is:\n",
        "\n",
        "\n",
        "t = (x̄A - x̄B) / √[(sA² / nA) + (sB² / nB)]\n",
        "\n",
        "\n",
        "where:\n",
        "\n",
        "x̄A = sample mean of Group A\n",
        "\n",
        "x̄B = sample mean of Group B\n",
        "\n",
        "sA = standard deviation of Group A\n",
        "\n",
        "nA = sample size of Group A\n",
        "\n",
        "sB = standard deviation of Group B\n",
        "\n",
        "nB = sample size of Group B\n",
        "\n",
        "\n",
        "Substitute the values into the formula:\n",
        "\n",
        "\n",
        "t = (80 - 85) / √[(10² / 30) + (12² / 40)]\n",
        "\n",
        "\n",
        "Step 4: Calculate the test statistic:\n",
        "\n",
        "t ≈ -5 / √[33.33 + 3.60]\n",
        "\n",
        "t ≈ -5 / √36.93\n",
        "\n",
        "t ≈ -5 / 6.08\n",
        "\n",
        "t ≈ -0.823\n",
        "\n",
        "\n",
        "Step 5: Determine the critical value:\n",
        "\n",
        "Since we are using a two-tailed test with a significance level of 0.05, we need to find the critical t-value at α/2 = 0.025 with degrees of freedom (df) = nA + nB - 2.\n",
        "\n",
        "\n",
        "df = 30 + 40 - 2 = 68 (approximately)\n",
        "\n",
        "\n",
        "Using a t-table or statistical software, the critical t-value is approximately ±2.000 for a two-tailed test at α = 0.05.\n",
        "\n",
        "\n",
        "Step 6: Compare the test statistic with the critical value:\n",
        "\n",
        "|-0.823| < 2.000\n",
        "\n",
        "\n",
        "Since the absolute value of the test statistic (0.823) is less than the critical value (2.000), we fail to reject the null hypothesis (H0). There is not enough evidence to conclude that the mean scores of the two groups are significantly different at the 0.05 significance level.\n",
        "\n",
        "\n",
        "In other words, based on the data and the significance level chosen, we cannot say that there is a statistically significant difference in the mean scores of Group A and Group B."
      ],
      "metadata": {
        "id": "vmqCW67evOLp"
      }
    },
    {
      "cell_type": "markdown",
      "source": [
        "Q17:\n",
        "\n",
        "99% Confidence Interval for Population Mean Number of Ads Watched: (3.45, 4.55)\n"
      ],
      "metadata": {
        "id": "PdFU_v2Hw6T0"
      }
    }
  ]
}