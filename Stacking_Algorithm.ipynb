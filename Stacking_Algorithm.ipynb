{
  "nbformat": 4,
  "nbformat_minor": 0,
  "metadata": {
    "colab": {
      "provenance": [],
      "authorship_tag": "ABX9TyOtZI+rXhXPbkuqmWfzyu74",
      "include_colab_link": true
    },
    "kernelspec": {
      "name": "python3",
      "display_name": "Python 3"
    },
    "language_info": {
      "name": "python"
    }
  },
  "cells": [
    {
      "cell_type": "markdown",
      "metadata": {
        "id": "view-in-github",
        "colab_type": "text"
      },
      "source": [
        "<a href=\"https://colab.research.google.com/github/MacWorldPro/Module_34/blob/main/Stacking_Algorithm.ipynb\" target=\"_parent\"><img src=\"https://colab.research.google.com/assets/colab-badge.svg\" alt=\"Open In Colab\"/></a>"
      ]
    },
    {
      "cell_type": "code",
      "execution_count": 1,
      "metadata": {
        "colab": {
          "base_uri": "https://localhost:8080/"
        },
        "id": "nmPiqhZ4bbPI",
        "outputId": "3dce6656-d0b8-4483-dcc6-acb74d27c461"
      },
      "outputs": [
        {
          "output_type": "stream",
          "name": "stdout",
          "text": [
            "Stacking Model Accuracy: 1.0\n",
            "Classification Report:\n",
            "               precision    recall  f1-score   support\n",
            "\n",
            "           0       1.00      1.00      1.00        10\n",
            "           1       1.00      1.00      1.00         9\n",
            "           2       1.00      1.00      1.00        11\n",
            "\n",
            "    accuracy                           1.00        30\n",
            "   macro avg       1.00      1.00      1.00        30\n",
            "weighted avg       1.00      1.00      1.00        30\n",
            "\n"
          ]
        }
      ],
      "source": [
        "from sklearn.datasets import load_iris\n",
        "from sklearn.model_selection import train_test_split, cross_val_predict\n",
        "from sklearn.tree import DecisionTreeClassifier\n",
        "from sklearn.linear_model import LogisticRegression\n",
        "from sklearn.neighbors import KNeighborsClassifier\n",
        "from sklearn.metrics import accuracy_score, classification_report\n",
        "import numpy as np\n",
        "\n",
        "# Load the dataset\n",
        "iris = load_iris()\n",
        "X, y = iris.data, iris.target\n",
        "\n",
        "# Split the dataset into training and testing sets\n",
        "X_train, X_test, y_train, y_test = train_test_split(X, y, test_size=0.2, random_state=42)\n",
        "\n",
        "# Initialize base models\n",
        "base_model_1 = DecisionTreeClassifier(random_state=42)\n",
        "base_model_2 = LogisticRegression(max_iter=200, random_state=42)\n",
        "base_model_3 = KNeighborsClassifier()\n",
        "\n",
        "# Train base models\n",
        "base_model_1.fit(X_train, y_train)\n",
        "base_model_2.fit(X_train, y_train)\n",
        "base_model_3.fit(X_train, y_train)\n",
        "\n",
        "# Generate out-of-fold predictions\n",
        "base_model_1_oof = cross_val_predict(base_model_1, X_train, y_train, cv=5, method='predict_proba')\n",
        "base_model_2_oof = cross_val_predict(base_model_2, X_train, y_train, cv=5, method='predict_proba')\n",
        "base_model_3_oof = cross_val_predict(base_model_3, X_train, y_train, cv=5, method='predict_proba')\n",
        "\n",
        "# Stack the predictions as features for the meta-model\n",
        "meta_features = np.hstack((base_model_1_oof, base_model_2_oof, base_model_3_oof))\n",
        "\n",
        "# Initialize and train meta-model\n",
        "meta_model = LogisticRegression(max_iter=200, random_state=42)\n",
        "meta_model.fit(meta_features, y_train)\n",
        "\n",
        "# Generate predictions for the test set from base models\n",
        "base_model_1_test = base_model_1.predict_proba(X_test)\n",
        "base_model_2_test = base_model_2.predict_proba(X_test)\n",
        "base_model_3_test = base_model_3.predict_proba(X_test)\n",
        "\n",
        "# Stack the test set predictions\n",
        "meta_test_features = np.hstack((base_model_1_test, base_model_2_test, base_model_3_test))\n",
        "\n",
        "# Predict with the meta-model\n",
        "meta_test_pred = meta_model.predict(meta_test_features)\n",
        "\n",
        "# Evaluate the performance\n",
        "print(\"Stacking Model Accuracy:\", accuracy_score(y_test, meta_test_pred))\n",
        "print(\"Classification Report:\\n\", classification_report(y_test, meta_test_pred))\n"
      ]
    },
    {
      "cell_type": "code",
      "source": [],
      "metadata": {
        "id": "VFHa0eGAfpdE"
      },
      "execution_count": null,
      "outputs": []
    }
  ]
}