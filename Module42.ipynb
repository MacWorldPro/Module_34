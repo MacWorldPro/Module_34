{
  "nbformat": 4,
  "nbformat_minor": 0,
  "metadata": {
    "colab": {
      "provenance": [],
      "authorship_tag": "ABX9TyMShGWoeBoiajIqnznLIsZa",
      "include_colab_link": true
    },
    "kernelspec": {
      "name": "python3",
      "display_name": "Python 3"
    },
    "language_info": {
      "name": "python"
    }
  },
  "cells": [
    {
      "cell_type": "markdown",
      "metadata": {
        "id": "view-in-github",
        "colab_type": "text"
      },
      "source": [
        "<a href=\"https://colab.research.google.com/github/MacWorldPro/Module_34/blob/main/Module42.ipynb\" target=\"_parent\"><img src=\"https://colab.research.google.com/assets/colab-badge.svg\" alt=\"Open In Colab\"/></a>"
      ]
    },
    {
      "cell_type": "markdown",
      "source": [
        "Q1:\n",
        "\n",
        "Statistics is nothing but it is the science of collecting, organising and analyzing data."
      ],
      "metadata": {
        "id": "f-yGLLTwwDkR"
      }
    },
    {
      "cell_type": "markdown",
      "source": [
        "Q2:\n",
        "\n",
        "There are mainly two types\n",
        "->Descriptive : It's main focus is for summarising the data example finding out the mean,median,mode etc of the dataset.\n",
        "->Inferential : It's main focus is to find out the conclusion or the result from the given dataset eg exit of any legislative election."
      ],
      "metadata": {
        "id": "WaMiq40WwS1b"
      }
    },
    {
      "cell_type": "markdown",
      "source": [
        "Q3:\n",
        "\n",
        "Mainly there are two distribution of data.\n",
        "\n",
        "-> Quantitative : These are mainly numerical data.\n",
        "                  These also has two parts\n",
        "                    ->Discrete : These data are mainly whole number with range. Example number of children in a school.\n",
        "                    ->Continuous : These data can be floating also.\n",
        "                    Example height of students in foot.\n",
        "\n",
        "->Qualitative : These are categorical data.\n",
        "                It is further divided into two parts\n",
        "                  ->Nominal : These cannot be ranked among each other\n",
        "                              example, gender\n",
        "                  ->Ordinal : These can be ranked.\n",
        "                              example, customer feedback, good; better; best."
      ],
      "metadata": {
        "id": "xa4-AuAYw-Mh"
      }
    },
    {
      "cell_type": "markdown",
      "source": [
        "Q4:\n",
        "\n",
        "i. Qualitative\n",
        "ii. Qualitative\n",
        "iii. Quantitative\n",
        "iv. Quantitative"
      ],
      "metadata": {
        "id": "r157CqWmywUU"
      }
    },
    {
      "cell_type": "markdown",
      "source": [
        "Q5:\n",
        "\n",
        "Levels of measurment are, they are mainly divided into 4 types\n",
        "Nominal Scale data : Eg gender\n",
        "Ordinal Scale Data : Compliment\n",
        "Interval Scale Data : Temperature\n",
        "Ratio Scale Data : Marks of different students in a class\n"
      ],
      "metadata": {
        "id": "mNftwFGYzPf7"
      }
    },
    {
      "cell_type": "markdown",
      "source": [
        "Q6:\n",
        "\n",
        "\n",
        "Understanding the level of measurement of data is crucial because it determines the types of statistical analyses that are appropriate and the conclusions that can be drawn from the data. The level of measurement refers to the nature of information within the values assigned to variables, and there are four levels: nominal, ordinal, interval, and ratio. Each level of measurement allows different types of operations to be performed on the data, and thus influences how data can be collected, analyzed, and interpreted.\n",
        "\n",
        "Example\n",
        "\n",
        "Imagine a study examining the relationship between coffee consumption and sleep quality. Coffee consumption is measured in cups per day (0, 1, 2, 3, etc.), which is a ratio level of measurement because it has a meaningful zero (no coffee consumed) and equal intervals (each increment represents one cup). Sleep quality is assessed using a survey where participants rate their sleep on a scale from 1 (very poor) to 5 (excellent), which is an ordinal level of measurement.\n",
        "\n",
        "Knowing that coffee consumption is at the ratio level allows researchers to use parametric statistical tests such as correlation and regression analysis to examine the relationship between cups of coffee consumed and hours of sleep or other continuous variables measured at the interval or ratio level. They could also calculate means and standard deviations to describe coffee consumption.\n",
        "\n",
        "For sleep quality, being an ordinal measure, researchers must be more cautious. They could use median or mode to describe central tendency and non-parametric tests to analyze differences or associations involving this variable (e.g., using Spearman’s rank correlation instead of Pearson’s correlation when analyzing its relationship with coffee consumption).\n",
        "\n",
        "If the researchers incorrectly treated sleep quality as interval data, they might apply inappropriate statistical tests, potentially leading to incorrect conclusions. For instance, calculating the mean sleep quality and using it in parametric tests could mislead interpretations because the numerical differences between adjacent scale points might not represent equal changes in sleep quality.\n",
        "\n",
        "Thus, understanding the level of measurement helps ensure that data analysis is conducted appropriately, respecting the nature of the data and avoiding misinterpretations that could affect research outcomes or decisions based on the analysis."
      ],
      "metadata": {
        "id": "Mib5dVmz0DG_"
      }
    },
    {
      "cell_type": "markdown",
      "source": [
        "Q7:\n",
        "\n",
        "Nominal is different from ordinal in a major disaggrement that in nominal order or ranking is not important but in ordinal ranking can be given.\n",
        "Eg gender is nominal while customer feedback is ordinal."
      ],
      "metadata": {
        "id": "fT-hJs4m1GNy"
      }
    },
    {
      "cell_type": "markdown",
      "source": [
        "Q8:\n",
        "\n",
        "Box plot , column chart can be used."
      ],
      "metadata": {
        "id": "zTkDlQD32U1j"
      }
    },
    {
      "cell_type": "markdown",
      "source": [
        "Q9:\n",
        "\n",
        "Descriptive and inferential statistics are two main branches of statistics that serve different purposes in data analysis, helping to summarize, describe, and infer from data. Understanding these differences is essential for correctly applying statistical methods in research and analysis.\n",
        "\n",
        "### Descriptive Statistics\n",
        "\n",
        "**Definition**: Descriptive statistics aim to summarize or describe the main features of a dataset in a quantitative manner. This branch of statistics provides simple summaries about the sample and the measures. These summaries may either form the basis of the initial description of the data as part of a more extensive statistical analysis, or they may be enough in themselves for a particular investigation.\n",
        "\n",
        "**Components**: Descriptive statistics often include measures of central tendency (mean, median, mode) and measures of variability or spread (standard deviation, variance, range, interquartile range). They also include data visualizations such as histograms, pie charts, and bar charts.\n",
        "\n",
        "**Example and Use**:\n",
        "- *Example*: A company might analyze sales data from the past year to understand trends, including calculating the average sales per month, the variance, and the total sales. Visual summaries like bar charts could show sales across different regions, and pie charts could represent the percentage contributions of various product categories to total sales.\n",
        "- *How Used*: These statistics are used to provide a quick and simple overview of the data, helping to understand the distribution, central tendencies, and variability. They are essential in business reporting, preliminary research stages, and whenever a snapshot of data understanding is needed.\n",
        "\n",
        "### Inferential Statistics\n",
        "\n",
        "**Definition**: Inferential statistics allows you to make predictions or inferences about a population based on a sample of data drawn from it. It involves using probability theory to estimate population parameters, test hypotheses, and make predictions.\n",
        "\n",
        "**Components**: This branch includes hypothesis testing, confidence intervals, regression analysis, and other techniques that help generalize findings from samples to larger populations.\n",
        "\n",
        "**Example and Use**:\n",
        "- *Example*: A researcher may conduct a survey on a sample of 1,000 residents in a city to infer the general health behaviors of all residents. By using inferential statistics, the researcher can estimate population parameters (like the average hours spent exercising per week) and calculate confidence intervals to understand the accuracy of these estimates.\n",
        "- *How Used*: Inferential statistics are used when making judgments about the probability that an observed difference between groups is a dependable one or one that might have happened by chance in this study. Thus, these statistics are crucial for scientific studies, market research, quality control, and any scenario where decisions are based on data analysis extending beyond the immediate data set.\n",
        "\n"
      ],
      "metadata": {
        "id": "sJQeey2Q2yML"
      }
    },
    {
      "cell_type": "markdown",
      "source": [
        "Q10:\n",
        "\n",
        "In statistics, measures of central tendency and measures of variability are foundational concepts used to describe and summarize data. Here’s a breakdown of these measures and how they can be used:\n",
        "\n",
        "### Measures of Central Tendency\n",
        "\n",
        "Measures of central tendency give us an idea about the average or most common values in a dataset. The three most common measures are:\n",
        "\n",
        "1. **Mean**:\n",
        "   - **Definition**: The mean, often referred to as the average, is calculated by summing all the values in the dataset and dividing by the number of values.\n",
        "   - **Use**: The mean is useful for datasets with interval or ratio levels of measurement and provides a good sense of the \"center\" of the data. It is sensitive to outliers, which can sometimes skew the mean significantly. It’s often used when data distributions are roughly symmetrical with no outliers.\n",
        "   \n",
        "2. **Median**:\n",
        "   - **Definition**: The median is the middle value of a dataset when it is ordered from least to greatest. If there is an even number of observations, the median is the average of the two middle numbers.\n",
        "   - **Use**: The median is less affected by outliers and skewed data compared to the mean. It is particularly useful in describing the central location of the data in these situations, making it a preferred measure of central tendency for ordinal data or skewed interval/ratio data.\n",
        "\n",
        "3. **Mode**:\n",
        "   - **Definition**: The mode is the most frequently occurring value(s) in a dataset.\n",
        "   - **Use**: The mode is especially useful with nominal data or for identifying the most popular choice or value in a dataset. It can be used with any level of measurement and is particularly helpful when data have a high frequency of certain values, indicating peaks or concentrations in the data distribution.\n",
        "\n",
        "### Measures of Variability\n",
        "\n",
        "Measures of variability (or dispersion) describe the spread of data points within a dataset. The most commonly used measures include:\n",
        "\n",
        "1. **Range**:\n",
        "   - **Definition**: The range is the difference between the highest and lowest values in a dataset.\n",
        "   - **Use**: The range gives a quick sense of the spread of data but can be heavily influenced by outliers. It is simplest to calculate but provides only a basic understanding of variability.\n",
        "\n",
        "2. **Interquartile Range (IQR)**:\n",
        "   - **Definition**: The IQR is the range between the first quartile (25th percentile) and the third quartile (75th percentile) in a dataset. It measures the spread of the middle 50% of the data.\n",
        "   - **Use**: IQR is useful as it is not affected by outliers. It provides a clearer picture of how data is spread around the median, making it valuable in contexts where data is not symmetrically distributed.\n",
        "\n",
        "3. **Variance**:\n",
        "   - **Definition**: Variance measures the average squared deviation of each number from the mean of the data set.\n",
        "   - **Use**: It provides a comprehensive measure of dispersion because it takes all data points into account. However, because it uses squared units, it can sometimes be hard to interpret directly.\n",
        "\n",
        "4. **Standard Deviation**:\n",
        "   - **Definition**: The standard deviation is the square root of the variance.\n",
        "   - **Use**: It is one of the most important and commonly used indicators of variability. It is in the same units as the data, making it easier to interpret than variance. A low standard deviation indicates that the data points tend to be close to the mean, whereas a high standard deviation indicates that the data points are spread out over a wider range of values.\n",
        "\n"
      ],
      "metadata": {
        "id": "Igsmbbch336u"
      }
    }
  ]
}