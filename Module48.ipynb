{
  "nbformat": 4,
  "nbformat_minor": 0,
  "metadata": {
    "colab": {
      "provenance": [],
      "authorship_tag": "ABX9TyMSqboCDyaFU8+3wCUst5nR",
      "include_colab_link": true
    },
    "kernelspec": {
      "name": "python3",
      "display_name": "Python 3"
    },
    "language_info": {
      "name": "python"
    }
  },
  "cells": [
    {
      "cell_type": "markdown",
      "metadata": {
        "id": "view-in-github",
        "colab_type": "text"
      },
      "source": [
        "<a href=\"https://colab.research.google.com/github/MacWorldPro/Module_34/blob/main/Module48.ipynb\" target=\"_parent\"><img src=\"https://colab.research.google.com/assets/colab-badge.svg\" alt=\"Open In Colab\"/></a>"
      ]
    },
    {
      "cell_type": "markdown",
      "source": [
        "Q1:\n",
        "\n",
        "t-test is used in the condition population standard deviation is not provided and sample is less than 30.\n",
        "\n",
        "z-test is used in the condition population standard deviation is  provided and sample is greter than equal to 30."
      ],
      "metadata": {
        "id": "g7GP-5Op8q_7"
      }
    },
    {
      "cell_type": "markdown",
      "source": [
        "Q2:\n",
        "\n",
        "One tail: When there is only one possibility.\n",
        "Two tail: When there are two possibility."
      ],
      "metadata": {
        "id": "L6JgxFkC9EW3"
      }
    },
    {
      "cell_type": "markdown",
      "source": [
        "Q3:\n",
        "\n",
        "Type-1 Error: When we reject true null hypothesis.\n",
        "Type-2 Error: When we retain false null hypothesis."
      ],
      "metadata": {
        "id": "Nn2b94cZ9P6c"
      }
    },
    {
      "cell_type": "markdown",
      "source": [
        "Q4:\n",
        "\n",
        "Bayes' theorem describes how to update the probability of an event based on new evidence. It calculates the probability of an event given prior knowledge of related conditions. For example, in medical testing, it helps determine the likelihood of a disease given a positive test result, considering both test accuracy and disease prevalence."
      ],
      "metadata": {
        "id": "VDvJqEEi9pft"
      }
    },
    {
      "cell_type": "markdown",
      "source": [
        "Q5:\n",
        "\n",
        "Confidence interval gives a interval which specifies that our result will probably lie in between this interval with a certain confidence percentage."
      ],
      "metadata": {
        "id": "0G_V2a2f-ZRN"
      }
    },
    {
      "cell_type": "markdown",
      "source": [
        "Q6:\n",
        "\n",
        "Let's consider a sample problem:\n",
        "\n",
        "Suppose a factory produces two types of products, A and B. Historically, product A has a defect rate of 10%, while product B has a defect rate of 5%. If a randomly selected product from this factory is found to be defective, what is the probability that it is product A?\n",
        "\n",
        "Here's the solution using Bayes' theorem:\n",
        "\n",
        "Let:\n",
        "- \\( A \\): the event that the defective product is product A.\n",
        "- \\( B \\): the event that the defective product is product B.\n",
        "- \\( P(A) \\): the prior probability that a randomly selected product is product A, which is 0.5 (assuming equal production of both types).\n",
        "- \\( P(B) \\): the prior probability that a randomly selected product is product B, also 0.5.\n",
        "- \\( P(D|A) \\): the probability of observing a defective product given that it is product A, which is 0.10 (10% defect rate).\n",
        "- \\( P(D|B) \\): the probability of observing a defective product given that it is product B, which is 0.05 (5% defect rate).\n",
        "\n",
        "We want to find \\( P(A|D) \\), the probability that the defective product is product A given that it is defective.\n",
        "\n",
        "Applying Bayes' theorem:\n",
        "\\[ P(A|D) = \\frac{P(D|A) \\times P(A)}{P(D)} \\]\n",
        "\n",
        "Using the law of total probability:\n",
        "\\[ P(D) = P(D|A) \\times P(A) + P(D|B) \\times P(B) \\]\n",
        "\n",
        "Now, substitute the known values and calculate:\n",
        "\\[ P(D) = (0.10 \\times 0.5) + (0.05 \\times 0.5) \\]\n",
        "\\[ P(D) = 0.05 + 0.025 \\]\n",
        "\\[ P(D) = 0.075 \\]\n",
        "\n",
        "Finally:\n",
        "\\[ P(A|D) = \\frac{0.10 \\times 0.5}{0.075} \\]\n",
        "\\[ P(A|D) = \\frac{0.05}{0.075} \\]\n",
        "\\[ P(A|D) \\approx 0.6667 \\]\n",
        "\n",
        "So, the probability that the defective product is product A given that it is defective is approximately 0.6667, or 66.67%."
      ],
      "metadata": {
        "id": "ZT-61FlN-rzH"
      }
    },
    {
      "cell_type": "markdown",
      "source": [
        "Q7:\n",
        "\n",
        "[40.2,59.8]"
      ],
      "metadata": {
        "id": "J2WqbCiW_N1e"
      }
    },
    {
      "cell_type": "markdown",
      "source": [
        "Q8:\n",
        "\n",
        "Margin or error is the error that occurs for a confidence interval. Yes it is affected by confidence interval as sample size is inversely proportional to square_root(sample_size)."
      ],
      "metadata": {
        "id": "CmU0XCzJ_iC1"
      }
    },
    {
      "cell_type": "markdown",
      "source": [
        "Q9:\n",
        "\n",
        "1"
      ],
      "metadata": {
        "id": "lehTTlEkAZbu"
      }
    },
    {
      "cell_type": "code",
      "source": [
        "# Q10:\n",
        "\n",
        "import numpy as np\n",
        "from scipy.stats import t\n",
        "\n",
        "# Given data\n",
        "sample_mean = 6  # Mean weight loss\n",
        "sample_std = 2.5  # Standard deviation of weight loss\n",
        "n = 50  # Sample size\n",
        "\n",
        "# Null hypothesis: true mean weight loss is 0\n",
        "null_mean = 0\n",
        "\n",
        "# Calculate the t-statistic\n",
        "t_statistic = (sample_mean - null_mean) / (sample_std / np.sqrt(n))\n",
        "\n",
        "# Degrees of freedom\n",
        "df = n - 1\n",
        "\n",
        "# Calculate the critical t-value\n",
        "alpha = 0.05\n",
        "t_critical = t.ppf(1 - alpha/2, df)\n",
        "\n",
        "# Perform the hypothesis test\n",
        "if np.abs(t_statistic) > t_critical:\n",
        "    print(\"Reject the null hypothesis: The drug is significantly effective.\")\n",
        "else:\n",
        "    print(\"Fail to reject the null hypothesis: The drug is not significantly effective.\")\n"
      ],
      "metadata": {
        "id": "FN7t3xn6Egq8"
      },
      "execution_count": null,
      "outputs": []
    },
    {
      "cell_type": "code",
      "execution_count": null,
      "metadata": {
        "id": "mdmr5S6WkqND"
      },
      "outputs": [],
      "source": []
    }
  ]
}