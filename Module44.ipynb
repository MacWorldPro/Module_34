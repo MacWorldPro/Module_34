{
  "nbformat": 4,
  "nbformat_minor": 0,
  "metadata": {
    "colab": {
      "provenance": [],
      "authorship_tag": "ABX9TyMQGrWkaaEfLdtIHDHhRfHa",
      "include_colab_link": true
    },
    "kernelspec": {
      "name": "python3",
      "display_name": "Python 3"
    },
    "language_info": {
      "name": "python"
    }
  },
  "cells": [
    {
      "cell_type": "markdown",
      "metadata": {
        "id": "view-in-github",
        "colab_type": "text"
      },
      "source": [
        "<a href=\"https://colab.research.google.com/github/MacWorldPro/Module_34/blob/main/Module44.ipynb\" target=\"_parent\"><img src=\"https://colab.research.google.com/assets/colab-badge.svg\" alt=\"Open In Colab\"/></a>"
      ]
    },
    {
      "cell_type": "markdown",
      "source": [
        "Q1:\n",
        "\n",
        "When our random variable is continuous to show it's distribution we use probability density fucntion (PDF)."
      ],
      "metadata": {
        "id": "BDKaFeQSuwcD"
      }
    },
    {
      "cell_type": "markdown",
      "source": [
        "Q2:\n",
        "\n",
        "There are majorly two PDF and PMF."
      ],
      "metadata": {
        "id": "7Ll4uPJ6u_1T"
      }
    },
    {
      "cell_type": "code",
      "execution_count": null,
      "metadata": {
        "id": "HjMh2h9A3SMq"
      },
      "outputs": [],
      "source": [
        "# Q3:\n",
        "\n",
        "import math\n",
        "\n",
        "def normal_pdf(x, mean, std_dev):\n",
        "    sqrt_two_pi = math.sqrt(2 * math.pi)\n",
        "    factor = 1 / (std_dev * sqrt_two_pi)\n",
        "    exponent = -((x - mean) ** 2) / (2 * std_dev ** 2)\n",
        "    return factor * math.exp(exponent)"
      ]
    },
    {
      "cell_type": "markdown",
      "source": [
        "Q4:\n",
        "\n",
        "Every step outcome is binary.\n",
        "These are performed for n trials.\n",
        "These are for discrete random variables.\n",
        "\n",
        "Eg tossing a coin ten times\n",
        "  rolling a dice many times in which 1 is if we get 1 otherwise 0."
      ],
      "metadata": {
        "id": "jttJXjcGvu0e"
      }
    },
    {
      "cell_type": "code",
      "source": [
        "# Q5:\n",
        "\n",
        "import numpy as np\n",
        "import matplotlib.pyplot as plt\n",
        "\n",
        "n = 1\n",
        "p = 0.4\n",
        "size = 1000\n",
        "\n",
        "data = np.random.binomial(n, p, size)\n",
        "print(data)\n",
        "\n",
        "plt.hist(data, edgecolor='black', alpha=0.7)\n",
        "plt.xticks([0, 1])\n",
        "plt.title('Histogram of Binomial Distribution Results')\n",
        "plt.xlabel('Number of Successes')\n",
        "plt.ylabel('Frequency')\n",
        "plt.show()\n",
        "\n"
      ],
      "metadata": {
        "id": "xaMcL2vVxj4s"
      },
      "execution_count": null,
      "outputs": []
    },
    {
      "cell_type": "code",
      "source": [
        "# Q6:\n",
        "\n",
        "import math\n",
        "\n",
        "def poisson_cdf(x, lam):\n",
        "    cdf = 0\n",
        "    for k in range(0, int(x) + 1):\n",
        "        cdf += (math.exp(-lam) * lam**k) / math.factorial(k)\n",
        "    return cdf\n",
        "\n",
        "# Example usage:\n",
        "x = 5\n",
        "lam = 3\n",
        "result = poisson_cdf(x, lam)\n",
        "print(f\"The CDF of Poisson distribution with λ = {lam} at x = {x} is {result}\")\n"
      ],
      "metadata": {
        "id": "cyxWEkXxzKQx"
      },
      "execution_count": null,
      "outputs": []
    },
    {
      "cell_type": "markdown",
      "source": [
        "Q7:\n",
        "\n",
        "Binomial is different from poisson in way that poisson distribution is calculated for a fixed interval of time but not in binomial distribution."
      ],
      "metadata": {
        "id": "btnbP3ctzPOR"
      }
    },
    {
      "cell_type": "code",
      "source": [
        "# Q8:\n",
        "import numpy as np\n",
        "\n",
        "size=1000\n",
        "mean=5\n",
        "\n",
        "data=np.random.poisson(mean,size)\n",
        "sample_mean=np.mean(data)\n",
        "sample_variance=np.mean(data)\n",
        "print(f\"Sample Mean: {sample_mean}\")\n",
        "print(f\"Sample Variance: {sample_variance}\")\n",
        "\n",
        ""
      ],
      "metadata": {
        "id": "s4I9Z7MbzlwS"
      },
      "execution_count": null,
      "outputs": []
    },
    {
      "cell_type": "markdown",
      "source": [
        "Q9:\n",
        "\n",
        "In the Binomial distribution, mean (np) and variance (np(1-p)) depend on the number of trials (n) and probability of success (p). In the Poisson distribution, both mean and variance are equal to the rate parameter (λ), representing the average occurrence rate, simplifying the relationship between mean and variance."
      ],
      "metadata": {
        "id": "rlKSod011hYw"
      }
    },
    {
      "cell_type": "markdown",
      "source": [
        "Q10:\n",
        "\n",
        "In the region of third standard deviation."
      ],
      "metadata": {
        "id": "-EeB-aYo1uXj"
      }
    }
  ]
}