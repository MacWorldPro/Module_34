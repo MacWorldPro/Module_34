{
  "nbformat": 4,
  "nbformat_minor": 0,
  "metadata": {
    "colab": {
      "provenance": [],
      "authorship_tag": "ABX9TyPJmPnC4OwAYfY+hBz762b8",
      "include_colab_link": true
    },
    "kernelspec": {
      "name": "python3",
      "display_name": "Python 3"
    },
    "language_info": {
      "name": "python"
    }
  },
  "cells": [
    {
      "cell_type": "markdown",
      "metadata": {
        "id": "view-in-github",
        "colab_type": "text"
      },
      "source": [
        "<a href=\"https://colab.research.google.com/github/MacWorldPro/Module_34/blob/main/Module47.ipynb\" target=\"_parent\"><img src=\"https://colab.research.google.com/assets/colab-badge.svg\" alt=\"Open In Colab\"/></a>"
      ]
    },
    {
      "cell_type": "code",
      "source": [
        "# Q1:\n",
        "\n",
        "import scipy.stats as stats\n",
        "\n",
        "mean = 50\n",
        "std_dev = 5\n",
        "\n",
        "z_critical = stats.norm.ppf(0.975)\n",
        "margin_error = z_critical * std_dev\n",
        "ci_lower = mean - margin_error\n",
        "ci_upper = mean + margin_error\n",
        "\n",
        "print(f\"95% Confidence Interval: ({ci_lower:.2f}, {ci_upper:.2f})\")\n"
      ],
      "metadata": {
        "id": "QnaSuxv-teu2"
      },
      "execution_count": null,
      "outputs": []
    },
    {
      "cell_type": "code",
      "execution_count": null,
      "metadata": {
        "id": "JGj6xlZxIx8y"
      },
      "outputs": [],
      "source": [
        "# Q2:\n",
        "import numpy as np\n",
        "from scipy.stats import chisquare\n",
        "observed_counts = np.array([50, 40, 30, 30, 25, 75])\n",
        "expected_proportions = np.array([0.20, 0.20, 0.20, 0.10, 0.10, 0.20])\n",
        "total_mms = observed_counts.sum()\n",
        "expected_counts = expected_proportions * total_mms\n",
        "chi2_stat, p_value = chisquare(f_obs=observed_counts, f_exp=expected_counts)\n",
        "alpha = 0.05\n",
        "if p_value<alpha:\n",
        "  print('We Reject the null Hypothesis')\n",
        "else:\n",
        "  print('We fail to reject the null hypothesis')\n"
      ]
    },
    {
      "cell_type": "code",
      "source": [
        "# Q3:\n",
        "\n"
      ],
      "metadata": {
        "id": "2Y0Ulg2PvPvV"
      },
      "execution_count": null,
      "outputs": []
    },
    {
      "cell_type": "code",
      "source": [
        "# Q4:\n",
        "\n",
        "import scipy.stats as stats\n",
        "\n",
        "n = 500\n",
        "x = 60\n",
        "\n",
        "p = x / n\n",
        "\n",
        "z = stats.norm.ppf(0.975)\n",
        "\n",
        "se = (p * (1 - p) / n) ** 0.5\n",
        "\n",
        "margin_error = z * se\n",
        "\n",
        "ci_lower = p - margin_error\n",
        "ci_upper = p + margin_error\n",
        "\n",
        "print(f\"95% Confidence Interval for the proportion of smokers is: ({ci_lower:.4f}, {ci_upper:.4f})\")\n"
      ],
      "metadata": {
        "colab": {
          "base_uri": "https://localhost:8080/"
        },
        "id": "k9vTxKxLvR6b",
        "outputId": "2b7ced96-cf24-4f6c-d2f2-45ded73da762"
      },
      "execution_count": 4,
      "outputs": [
        {
          "output_type": "stream",
          "name": "stdout",
          "text": [
            "95% Confidence Interval for the proportion of smokers is: (0.0915, 0.1485)\n"
          ]
        }
      ]
    },
    {
      "cell_type": "code",
      "source": [
        "# Q5:\n",
        "\n",
        "import scipy.stats as stats\n",
        "\n",
        "mean = 75\n",
        "std_dev = 12\n",
        "\n",
        "z_critical = stats.norm.ppf(0.99)\n",
        "margin_error = z_critical * std_dev\n",
        "ci_lower = mean - margin_error\n",
        "ci_upper = mean + margin_error\n",
        "\n",
        "print(f\"90% Confidence Interval: ({ci_lower:.2f}, {ci_upper:.2f})\")"
      ],
      "metadata": {
        "id": "R4RIzIJgvTpg"
      },
      "execution_count": null,
      "outputs": []
    },
    {
      "cell_type": "code",
      "source": [
        "# Q6:\n",
        "\n",
        "import numpy as np\n",
        "import matplotlib.pyplot as plt\n",
        "import scipy.stats as stats\n",
        "\n",
        "df = 10\n",
        "\n",
        "x = np.linspace(0, 30, 1000)\n",
        "\n",
        "pdf = stats.chi2.pdf(x, df)\n",
        "\n",
        "plt.plot(x, pdf, label=f'Chi-square Distribution (df={df})')\n",
        "\n",
        "x_shade = np.linspace(0, 15, 1000)\n",
        "plt.fill_between(x_shade, stats.chi2.pdf(x_shade, df), color='skyblue', alpha=0.5, label='Chi-square = 15')\n",
        "\n",
        "plt.xlabel('Chi-square Statistic')\n",
        "plt.ylabel('Probability Density')\n",
        "plt.title('Chi-square Distribution')\n",
        "\n",
        "plt.legend()\n",
        "\n",
        "plt.grid(True)\n",
        "plt.show()\n"
      ],
      "metadata": {
        "id": "u-Fhm9hKyC5p"
      },
      "execution_count": null,
      "outputs": []
    },
    {
      "cell_type": "code",
      "source": [
        "# Q7:\n",
        "\n",
        "import numpy as np\n",
        "import scipy.stats as stats\n",
        "\n",
        "n = 1000\n",
        "x = 520\n",
        "\n",
        "p = x / n\n",
        "\n",
        "confidence_level = 0.99\n",
        "\n",
        "z = stats.norm.ppf((1 + confidence_level) / 2)\n",
        "\n",
        "se = np.sqrt((p * (1 - p)) / n)\n",
        "\n",
        "margin_error = z * se\n",
        "\n",
        "ci_lower = p - margin_error\n",
        "ci_upper = p + margin_error\n",
        "\n",
        "print(f\"99% Confidence Interval for the proportion of people who prefer Coke: ({ci_lower:.4f}, {ci_upper:.4f})\")\n"
      ],
      "metadata": {
        "id": "BW73Cp5IzZxw"
      },
      "execution_count": null,
      "outputs": []
    },
    {
      "cell_type": "code",
      "source": [
        "# Q8:\n",
        "\n",
        "import numpy as np\n",
        "from scipy.stats import chi2\n",
        "\n",
        "observed_tails = 45\n",
        "total_flips = 100\n",
        "\n",
        "expected_tails = total_flips * 0.5\n",
        "\n",
        "chi2_stat = ((observed_tails - expected_tails) ** 2) / expected_tails\n",
        "\n",
        "df = 1\n",
        "chi2_critical = chi2.ppf(0.95, df)\n",
        "\n",
        "if chi2_stat > chi2_critical:\n",
        "    print(\"Reject the null hypothesis: The coin is biased towards tails.\")\n",
        "else:\n",
        "    print(\"Fail to reject the null hypothesis: The coin is fair.\")\n"
      ],
      "metadata": {
        "colab": {
          "base_uri": "https://localhost:8080/"
        },
        "id": "z8CiQrQ41iFf",
        "outputId": "f9e0a2b0-3e82-4c7a-e6b0-2a2b7a1b5cc1"
      },
      "execution_count": 8,
      "outputs": [
        {
          "output_type": "stream",
          "name": "stdout",
          "text": [
            "Fail to reject the null hypothesis: The coin is fair.\n"
          ]
        }
      ]
    },
    {
      "cell_type": "code",
      "source": [
        "# Q9:\n",
        "\n",
        "import numpy as np\n",
        "from scipy.stats import chi2_contingency\n",
        "\n",
        "observed = np.array([[60,140],\n",
        "                     [30,170]])\n",
        "\n",
        "chi2, p, dof, expected = chi2_contingency(observed)\n",
        "\n",
        "alpha = 0.05\n",
        "\n",
        "print(\"Chi-square statistic:\", chi2)\n",
        "print(\"p-value:\", p)\n",
        "print(\"Degrees of freedom:\", dof)\n",
        "print(\"Expected frequencies:\\n\", expected)\n",
        "\n",
        "if p < alpha:\n",
        "    print(\"Reject the null hypothesis:There is a significant association between smoking status and lung cancer diagnosis.\")\n",
        "else:\n",
        "    print(\"Fail to reject the null hypothesis: There is no significant association between smoking status and lung cancer diagnosis.\")\n"
      ],
      "metadata": {
        "id": "d7Naqq3P2WxY"
      },
      "execution_count": null,
      "outputs": []
    },
    {
      "cell_type": "code",
      "source": [
        "# Q10:\n",
        "\n",
        "import numpy as np\n",
        "from scipy.stats import chi2_contingency\n",
        "\n",
        "observed = np.array([[200, 150, 150],\n",
        "                     [225, 175, 100]])\n",
        "\n",
        "chi2, p, dof, expected = chi2_contingency(observed)\n",
        "\n",
        "alpha = 0.05\n",
        "\n",
        "print(\"Chi-square statistic:\", chi2)\n",
        "print(\"p-value:\", p)\n",
        "print(\"Degrees of freedom:\", dof)\n",
        "print(\"Expected frequencies:\\n\", expected)\n",
        "\n",
        "if p < alpha:\n",
        "    print(\"Reject the null hypothesis: There is a significant association between chocolate preference and country of origin.\")\n",
        "else:\n",
        "    print(\"Fail to reject the null hypothesis: There is no significant association between chocolate preference and country of origin.\")\n"
      ],
      "metadata": {
        "id": "M7EPtsWF2Yae"
      },
      "execution_count": null,
      "outputs": []
    },
    {
      "cell_type": "markdown",
      "source": [
        "Q11:\n",
        "\n",
        "Confidence Interval is [68.42,75.58]."
      ],
      "metadata": {
        "id": "psNP01Yk2gvN"
      }
    }
  ]
}