{
  "nbformat": 4,
  "nbformat_minor": 0,
  "metadata": {
    "colab": {
      "provenance": [],
      "authorship_tag": "ABX9TyMR0NG7U1lVpttaOmn4EqiK",
      "include_colab_link": true
    },
    "kernelspec": {
      "name": "python3",
      "display_name": "Python 3"
    },
    "language_info": {
      "name": "python"
    }
  },
  "cells": [
    {
      "cell_type": "markdown",
      "metadata": {
        "id": "view-in-github",
        "colab_type": "text"
      },
      "source": [
        "<a href=\"https://colab.research.google.com/github/MacWorldPro/Module_34/blob/main/Module50.ipynb\" target=\"_parent\"><img src=\"https://colab.research.google.com/assets/colab-badge.svg\" alt=\"Open In Colab\"/></a>"
      ]
    },
    {
      "cell_type": "code",
      "execution_count": null,
      "metadata": {
        "id": "DhrFZixVaxD7"
      },
      "outputs": [],
      "source": [
        "# Q1:\n",
        "\n",
        "import numpy as np\n",
        "import scipy.stats as stats\n",
        "\n",
        "# Create the data for two groups\n",
        "group1 = np.random.rand(25)\n",
        "group2 = np.random.rand(20)\n",
        "\n",
        "# Calculate the sample variances\n",
        "variance1 = np.var(group1, ddof=1)\n",
        "variance2 = np.var(group2, ddof=1)\n",
        "\n",
        "# Calculate the F-statistic\n",
        "f_value = variance1 / variance2\n",
        "\n",
        "# Calculate the degrees of freedom\n",
        "df1 = len(group1) - 1\n",
        "df2 = len(group2) - 1\n",
        "\n",
        "# Calculate the p-value\n",
        "p_value = stats.f.cdf(f_value, df1, df2)\n",
        "\n",
        "# Print the results\n",
        "print('Degree of freedom 1:',df1)\n",
        "print('Degree of freedom 2:',df2)\n",
        "print(\"F-statistic:\", f_value)\n",
        "print(\"p-value:\", p_value)\n"
      ]
    },
    {
      "cell_type": "code",
      "source": [
        "# Q2:\n",
        "\n",
        "\n",
        "# Importing library\n",
        "import scipy.stats\n",
        "\n",
        "# Determine the F critical value\n",
        "print(scipy.stats.f.ppf(q=1-.05, dfn=3, dfd=10))"
      ],
      "metadata": {
        "id": "qwsuIvYSCT26"
      },
      "execution_count": null,
      "outputs": []
    },
    {
      "cell_type": "code",
      "source": [
        "# Q3:\n",
        "\n",
        "import numpy as np\n",
        "import scipy.stats\n",
        "\n",
        "# Generating varied samples\n",
        "np.random.seed(0)\n",
        "sample1 = np.random.normal(loc=0, scale=1, size=30)\n",
        "sample2 = np.random.normal(loc=0, scale=1, size=30)\n",
        "\n",
        "# Getting the variance of the two samples\n",
        "var1 = np.var(sample1, ddof=1)\n",
        "var2 = np.var(sample2, ddof=1)\n",
        "\n",
        "# Getting the D.O.F of the two samples\n",
        "dof1=len(sample1)-1\n",
        "dof2=len(sample2)-1\n",
        "\n",
        "# Getting the F value\n",
        "f_value=var1/var2\n",
        "\n",
        "# Getting the p_value\n",
        "p_value = stats.f.cdf(f_value, df1, df2)\n",
        "\n",
        "# Print the results\n",
        "print('Degree of freedom 1:',df1)\n",
        "print('Degree of freedom 2:',df2)\n",
        "print(\"F-statistic:\", f_value)\n",
        "print(\"p-value:\", p_value)\n"
      ],
      "metadata": {
        "id": "YAixWOtVGcU1"
      },
      "execution_count": null,
      "outputs": []
    },
    {
      "cell_type": "code",
      "source": [
        "# Q4:\n",
        "\n",
        "# Importing library\n",
        "import scipy.stats\n",
        "\n",
        "# Null Hypothesis: variance are same\n",
        "\n",
        "# Determine the F critical value\n",
        "f_critical=scipy.stats.f.ppf(q=1-.05, dfn=12, dfd=12)\n",
        "\n",
        "var1=10\n",
        "var2=15\n",
        "f_value=var1/var2\n",
        "if(f_value<f_critical):\n",
        "  print('We fail to reject the null hypothesis')\n",
        "else:\n",
        "  print('We fail to reject the null hypothesis')"
      ],
      "metadata": {
        "id": "ZmbkzQqiDJ2Q"
      },
      "execution_count": null,
      "outputs": []
    },
    {
      "cell_type": "code",
      "source": [
        "# Q5:\n",
        "\n",
        "# Importing library\n",
        "import scipy.stats\n",
        "\n",
        "# Null Hypothesis: Claim is justified\n",
        "\n",
        "# Determine the F critical value\n",
        "f_critical=scipy.stats.f.ppf(q=1-.01, dfn=24, dfd=24)\n",
        "\n",
        "var1=0.005\n",
        "var2=0.006\n",
        "f_value=var1/var2\n",
        "if(f_value<f_critical):\n",
        "  print('We fail to reject the null hypothesis')\n",
        "else:\n",
        "  print('We  reject the null hypothesis')"
      ],
      "metadata": {
        "id": "_nYh7LppL3Im"
      },
      "execution_count": null,
      "outputs": []
    },
    {
      "cell_type": "code",
      "source": [
        "# Q6:\n",
        "\n",
        "def f_distribution_mean_and_variance(df_num, df_den):\n",
        "    mean = df_den / (df_den - 2) if df_den > 2 else None\n",
        "    variance = (2 * (df_den ** 2) * (df_num + df_den - 2)) / \\\n",
        "               (df_num * (df_den - 2) ** 2 * (df_den - 4)) if df_den > 4 else None\n",
        "    return mean, variance\n",
        "\n",
        "# Example usage:\n",
        "df_num = 3\n",
        "df_den = 10\n",
        "\n",
        "mean, variance = f_distribution_mean_and_variance(df_num, df_den)\n",
        "print(\"Mean of F-distribution:\", mean)\n",
        "print(\"Variance of F-distribution:\", variance)\n"
      ],
      "metadata": {
        "id": "k7SHDfVpMltE"
      },
      "execution_count": null,
      "outputs": []
    },
    {
      "cell_type": "code",
      "source": [
        "# Q7:\n",
        "\n",
        "# Importing library\n",
        "import scipy.stats\n",
        "\n",
        "# Null Hypothesis: Claim is justified\n",
        "\n",
        "# Determine the F critical value\n",
        "f_critical=scipy.stats.f.ppf(q=1-.01, dfn=9, dfd=14)\n",
        "\n",
        "var1=25\n",
        "var2=20\n",
        "f_value=var1/var2\n",
        "if(f_value<f_critical):\n",
        "  print('We fail to reject the null hypothesis')\n",
        "else:\n",
        "  print('We  reject the null hypothesis')"
      ],
      "metadata": {
        "id": "0TvKovCNOuj8"
      },
      "execution_count": null,
      "outputs": []
    },
    {
      "cell_type": "code",
      "source": [
        "# Q8:\n",
        "\n",
        "import numpy as np\n",
        "import scipy.stats\n",
        "\n",
        "sample1=[24, 25, 28, 23, 22, 20, 27]\n",
        "sample2=[31, 33, 35, 30, 32, 36]\n",
        "\n",
        "var1=np.var(sample1)\n",
        "var2=np.var(sample2)\n",
        "\n",
        "dof1=len(sample1)-1\n",
        "dof2=len(sample2)-1\n",
        "q=1-.05\n",
        "f_critical=scipy.stats.f.ppf(q,dof1,dof2)\n",
        "\n",
        "f_value=var1/var2\n",
        "if(f_value<f_critical):\n",
        "  print('We fail to reject the null hypothesis')\n",
        "else:\n",
        "  print('We  reject the null hypothesis')\n"
      ],
      "metadata": {
        "id": "j38BKAj5QOrt"
      },
      "execution_count": null,
      "outputs": []
    },
    {
      "cell_type": "code",
      "source": [
        "# Q9:\n",
        "\n",
        "import numpy as np\n",
        "import scipy.stats\n",
        "\n",
        "sample1=[80, 85, 90, 92, 87, 83]\n",
        "sample2=[75, 78, 82, 79, 81, 84]\n",
        "\n",
        "var1=np.var(sample1)\n",
        "var2=np.var(sample2)\n",
        "\n",
        "dof1=len(sample1)-1\n",
        "dof2=len(sample2)-1\n",
        "q=1-.01\n",
        "f_critical=scipy.stats.f.ppf(q,dof1,dof2)\n",
        "\n",
        "f_value=var1/var2\n",
        "if(f_value<f_critical):\n",
        "  print('We fail to reject the null hypothesis')\n",
        "else:\n",
        "  print('We  reject the null hypothesis')"
      ],
      "metadata": {
        "id": "xAg8Ck3pRaSp"
      },
      "execution_count": null,
      "outputs": []
    }
  ]
}