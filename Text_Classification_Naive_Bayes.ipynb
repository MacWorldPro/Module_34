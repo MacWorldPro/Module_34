{
  "nbformat": 4,
  "nbformat_minor": 0,
  "metadata": {
    "colab": {
      "provenance": [],
      "authorship_tag": "ABX9TyO0O18nPpkEUHtJqVHzg3ks",
      "include_colab_link": true
    },
    "kernelspec": {
      "name": "python3",
      "display_name": "Python 3"
    },
    "language_info": {
      "name": "python"
    }
  },
  "cells": [
    {
      "cell_type": "markdown",
      "metadata": {
        "id": "view-in-github",
        "colab_type": "text"
      },
      "source": [
        "<a href=\"https://colab.research.google.com/github/MacWorldPro/Module_34/blob/main/Text_Classification_Naive_Bayes.ipynb\" target=\"_parent\"><img src=\"https://colab.research.google.com/assets/colab-badge.svg\" alt=\"Open In Colab\"/></a>"
      ]
    },
    {
      "cell_type": "code",
      "execution_count": null,
      "metadata": {
        "id": "slT6i-MrW8kq"
      },
      "outputs": [],
      "source": [
        "from sklearn.datasets import fetch_20newsgroups\n",
        "from sklearn.feature_extraction.text import TfidfVectorizer\n",
        "from sklearn.model_selection import train_test_split\n",
        "from sklearn.naive_bayes import MultinomialNB\n",
        "from sklearn.metrics import classification_report, accuracy_score\n",
        "\n",
        "# Load the dataset\n",
        "newsgroups = fetch_20newsgroups(subset='all')\n",
        "X, y = newsgroups.data, newsgroups.target\n",
        "\n",
        "# Split the data into training and testing sets\n",
        "X_train, X_test, y_train, y_test = train_test_split(X, y, test_size=0.2, random_state=42)\n",
        "\n",
        "# Vectorize the text data using TF-IDF\n",
        "vectorizer = TfidfVectorizer(stop_words='english', max_df=0.5)\n",
        "X_train_tfidf = vectorizer.fit_transform(X_train)\n",
        "X_test_tfidf = vectorizer.transform(X_test)\n",
        "\n",
        "# Initialize and train the Naive Bayes classifier\n",
        "nb_classifier = MultinomialNB()\n",
        "nb_classifier.fit(X_train_tfidf, y_train)\n",
        "\n",
        "# Predict the test set results\n",
        "y_pred = nb_classifier.predict(X_test_tfidf)\n",
        "\n",
        "# Evaluate the model\n",
        "accuracy = accuracy_score(y_test, y_pred)\n",
        "report = classification_report(y_test, y_pred, target_names=newsgroups.target_names)\n",
        "\n",
        "print(f'Accuracy: {accuracy:.4f}')\n",
        "print('Classification Report:')\n",
        "print(report)\n"
      ]
    },
    {
      "cell_type": "code",
      "source": [
        "X_train_tfidf"
      ],
      "metadata": {
        "colab": {
          "base_uri": "https://localhost:8080/"
        },
        "id": "rPU2tsYfbwUD",
        "outputId": "95ba5d99-59d1-4b38-c0c8-ed70cdc40ed0"
      },
      "execution_count": 20,
      "outputs": [
        {
          "output_type": "execute_result",
          "data": {
            "text/plain": [
              "<15076x148987 sparse matrix of type '<class 'numpy.float64'>'\n",
              "\twith 1637216 stored elements in Compressed Sparse Row format>"
            ]
          },
          "metadata": {},
          "execution_count": 20
        }
      ]
    },
    {
      "cell_type": "code",
      "source": [
        "# Ensure the vectorizer and classifier are already defined as per the previous code\n",
        "\n",
        "# New text input\n",
        "new_text = ['''The primary issue is that Revanna's whereabouts are currently unknown.\n",
        "The sex tapes\n",
        "Revanna, the grandson of former Prime Minister HD Deve Gowda, is the central figure in a sexual abuse case. He departed from India on a diplomatic passport, reportedly to Germany, just one day after the Lok Sabha elections took place in his constituency.\n",
        "Numerous women have accused the MP of violating their modesty and recording the acts on camera.\n",
        "On April 27, at the request of the State Commission for Women, the Karnataka government formed a Special Investigation Team (SIT) to investigate the alleged video clips of sexual abuse and exploitation involving the Hassan MP.\n",
        "Although the probe was ordered a day after the second phase of polling in the state, pen drives containing thousands of explicit video clips featuring multiple women had been circulating in Hassan and nearby areas well before the election.\n",
        "Politics amid polls\n",
        "The case has become a political flashpoint during the ongoing Lok Sabha elections, with the Congress criticising the BJP for aligning with a \"tainted\" MP and his party. The opposition parties have also targeted Prime Minister Narendra Modi for campaigning for him.\n",
        "The BJP, on the other hand, has accused the Congress of allowing the accused to escape from the state.\n",
        "Karnataka chief minister Siddaramaiah has once again written to PM Modi, requesting the cancellation of the MP's diplomatic passport.\n",
        "Blue corner notice\n",
        "The Interpol has already issued a 'Blue Corner Notice' to gather information on Prajwal Revanna's whereabouts, following a request from the SIT through the Central Bureau of Investigation (CBI).\n",
        "A Special Court for Elected Representatives has also issued an arrest warrant against Prajwal Revanna, based on an application filed by the SIT.\n",
        "Where is Prajwal?\n",
        "Kumaraswamy, while addressing media persons on Wednesday, stated that Prajwal was not in contact with his father and MLA H D Revanna or anyone else.\n",
        "\"Where will I go search for him? If I go abroad, they will say I have gone to save Prajwal... he is not in contact with anyone... with the advice of some advocates, all these things have happened. In case, I had come to know about him leaving for abroad on April 27, I would have stopped him,\" he said.\n",
        "\"Prajwal had sought a week to appear before SIT, but it was denied and another rape case was filed against him. With all this he might be afraid (to come back),\" he added.\n",
        "Earlier this month, MEA spokesperson Randhir Jaiswal confirmed that Revanna traveled to Germany on a diplomatic passport without seeking political clearance for the trip.\n",
        "\"No political clearance was either sought from or issued by MEA in respect of the travel of the said MP to Germany,\" Jaiswal had stated.''']\n",
        "\n",
        "# Transform the new text data using the same TF-IDF vectorizer\n",
        "new_text_tfidf = vectorizer.transform(new_text)\n",
        "\n",
        "# Predict the category of the new text data\n",
        "predicted_category = nb_classifier.predict(new_text_tfidf)\n",
        "\n",
        "# Get the category name\n",
        "predicted_category_name = newsgroups.target_names[predicted_category[0]]\n",
        "\n",
        "print(f'The predicted category for the text \"{new_text[0]}\" is: {predicted_category_name}')\n"
      ],
      "metadata": {
        "colab": {
          "base_uri": "https://localhost:8080/"
        },
        "id": "nipOto-xXtFs",
        "outputId": "abb26c99-2fe3-42e6-8d88-bcbcbd348a56"
      },
      "execution_count": 19,
      "outputs": [
        {
          "output_type": "stream",
          "name": "stdout",
          "text": [
            "The predicted category for the text \"The primary issue is that Revanna's whereabouts are currently unknown.\n",
            "The sex tapes\n",
            "Revanna, the grandson of former Prime Minister HD Deve Gowda, is the central figure in a sexual abuse case. He departed from India on a diplomatic passport, reportedly to Germany, just one day after the Lok Sabha elections took place in his constituency.\n",
            "Numerous women have accused the MP of violating their modesty and recording the acts on camera.\n",
            "On April 27, at the request of the State Commission for Women, the Karnataka government formed a Special Investigation Team (SIT) to investigate the alleged video clips of sexual abuse and exploitation involving the Hassan MP.\n",
            "Although the probe was ordered a day after the second phase of polling in the state, pen drives containing thousands of explicit video clips featuring multiple women had been circulating in Hassan and nearby areas well before the election.\n",
            "Politics amid polls\n",
            "The case has become a political flashpoint during the ongoing Lok Sabha elections, with the Congress criticising the BJP for aligning with a \"tainted\" MP and his party. The opposition parties have also targeted Prime Minister Narendra Modi for campaigning for him.\n",
            "The BJP, on the other hand, has accused the Congress of allowing the accused to escape from the state.\n",
            "Karnataka chief minister Siddaramaiah has once again written to PM Modi, requesting the cancellation of the MP's diplomatic passport.\n",
            "Blue corner notice\n",
            "The Interpol has already issued a 'Blue Corner Notice' to gather information on Prajwal Revanna's whereabouts, following a request from the SIT through the Central Bureau of Investigation (CBI).\n",
            "A Special Court for Elected Representatives has also issued an arrest warrant against Prajwal Revanna, based on an application filed by the SIT.\n",
            "Where is Prajwal?\n",
            "Kumaraswamy, while addressing media persons on Wednesday, stated that Prajwal was not in contact with his father and MLA H D Revanna or anyone else.\n",
            "\"Where will I go search for him? If I go abroad, they will say I have gone to save Prajwal... he is not in contact with anyone... with the advice of some advocates, all these things have happened. In case, I had come to know about him leaving for abroad on April 27, I would have stopped him,\" he said.\n",
            "\"Prajwal had sought a week to appear before SIT, but it was denied and another rape case was filed against him. With all this he might be afraid (to come back),\" he added.\n",
            "Earlier this month, MEA spokesperson Randhir Jaiswal confirmed that Revanna traveled to Germany on a diplomatic passport without seeking political clearance for the trip.\n",
            "\"No political clearance was either sought from or issued by MEA in respect of the travel of the said MP to Germany,\" Jaiswal had stated.\" is: talk.politics.mideast\n"
          ]
        }
      ]
    },
    {
      "cell_type": "code",
      "source": [
        "X_train_tfidf"
      ],
      "metadata": {
        "colab": {
          "base_uri": "https://localhost:8080/"
        },
        "id": "_sXJYy0MYAZL",
        "outputId": "25ce8936-e89d-4ae6-f8a0-16ed4b13e7b3"
      },
      "execution_count": 21,
      "outputs": [
        {
          "output_type": "execute_result",
          "data": {
            "text/plain": [
              "<15076x148987 sparse matrix of type '<class 'numpy.float64'>'\n",
              "\twith 1637216 stored elements in Compressed Sparse Row format>"
            ]
          },
          "metadata": {},
          "execution_count": 21
        }
      ]
    },
    {
      "cell_type": "code",
      "source": [
        "import numpy as np\n",
        "\n",
        "# Convert the sparse matrix to a dense matrix (caution: can be large)\n",
        "X_train_tfidf_dense = X_train_tfidf.toarray()\n",
        "\n",
        "# Print the shape of the dense matrix\n",
        "print(f'Shape of X_train_tfidf_dense: {X_train_tfidf_dense.shape}')\n",
        "\n",
        "# Print the first 5 rows and first 10 columns of the dense matrix\n",
        "print(X_train_tfidf_dense[:5, :10])\n",
        "\n",
        "# Optionally, print the feature names corresponding to the columns\n",
        "feature_names = vectorizer.get_feature_names_out()\n",
        "print('Feature names (first 10):', feature_names[:10])\n"
      ],
      "metadata": {
        "colab": {
          "base_uri": "https://localhost:8080/"
        },
        "id": "KdzYGG65b2D4",
        "outputId": "9001bcad-9d67-4774-ffa8-3bc1898f0398"
      },
      "execution_count": 22,
      "outputs": [
        {
          "output_type": "stream",
          "name": "stdout",
          "text": [
            "Shape of X_train_tfidf_dense: (15076, 148987)\n",
            "[[0. 0. 0. 0. 0. 0. 0. 0. 0. 0.]\n",
            " [0. 0. 0. 0. 0. 0. 0. 0. 0. 0.]\n",
            " [0. 0. 0. 0. 0. 0. 0. 0. 0. 0.]\n",
            " [0. 0. 0. 0. 0. 0. 0. 0. 0. 0.]\n",
            " [0. 0. 0. 0. 0. 0. 0. 0. 0. 0.]]\n",
            "Feature names (first 10): ['00' '000' '0000' '00000' '00000000' '0000000004' '0000000005'\n",
            " '00000000b' '00000001' '00000001b']\n"
          ]
        }
      ]
    },
    {
      "cell_type": "markdown",
      "source": [
        "### Understanding TF-IDF Features\n",
        "\n",
        "TF-IDF stands for **Term Frequency-Inverse Document Frequency**. It is a statistical measure used to evaluate how important a word is to a document in a collection or corpus. The importance increases proportionally to the number of times a word appears in the document but is offset by the frequency of the word in the corpus. This helps to adjust for the fact that some words appear more frequently in general (like \"the\", \"is\", \"in\") and should not be considered as important as context-specific words.\n",
        "\n",
        "### Components of TF-IDF\n",
        "\n",
        "1. **Term Frequency (TF)**:\n",
        "   - The term frequency is simply the count of a term in a document. However, to prevent bias towards longer documents, it is usually normalized by the document length (i.e., the total number of terms in the document).\n",
        "\n",
        "   \\[\n",
        "   \\text{TF}(t, d) = \\frac{\\text{Number of times term } t \\text{ appears in document } d}{\\text{Total number of terms in document } d}\n",
        "   \\]\n",
        "\n",
        "2. **Inverse Document Frequency (IDF)**:\n",
        "   - The inverse document frequency is a measure of how much information the word provides, i.e., if it’s common or rare across all documents.\n",
        "\n",
        "   \\[\n",
        "   \\text{IDF}(t, D) = \\log \\left( \\frac{\\text{Total number of documents}}{\\text{Number of documents containing term } t} \\right)\n",
        "   \\]\n",
        "\n",
        "   Words that appear in many documents have a low IDF, while words that appear in fewer documents have a high IDF.\n",
        "\n",
        "3. **TF-IDF Score**:\n",
        "   - The TF-IDF score is calculated as the product of TF and IDF.\n",
        "\n",
        "   \\[\n",
        "   \\text{TF-IDF}(t, d, D) = \\text{TF}(t, d) \\times \\text{IDF}(t, D)\n",
        "   \\]\n",
        "\n",
        "### How TF-IDF Works\n",
        "\n",
        "- **Normalization**: Each term's frequency is normalized to prevent bias towards longer documents.\n",
        "- **Weighting**: Terms that are common across many documents have their importance reduced, while terms that are rare across the corpus are given higher importance.\n",
        "- **Sparse Representation**: Typically, TF-IDF matrices are sparse because most terms do not appear in most documents.\n",
        "\n",
        "### Advantages of TF-IDF\n",
        "\n",
        "- **Relevance**: TF-IDF helps to filter out common words and highlight the important words in the context of the document.\n",
        "- **Efficiency**: It is computationally efficient and simple to implement.\n",
        "- **Effectiveness**: It often provides better results compared to raw term frequencies, especially in scenarios like information retrieval and text classification.\n",
        "\n",
        "### Example Calculation\n",
        "\n",
        "Let's assume we have the following documents:\n",
        "1. \"the cat sat on the mat\"\n",
        "2. \"the dog sat on the log\"\n",
        "3. \"the cat chased the dog\"\n",
        "\n",
        "**Step-by-Step Calculation**:\n",
        "\n",
        "1. **Term Frequency (TF)**:\n",
        "   - For the word \"cat\" in the first document:\n",
        "     \\[\n",
        "     \\text{TF}(\\text{\"cat\"}, d1) = \\frac{1}{6}\n",
        "     \\]\n",
        "   - For the word \"the\" in the first document:\n",
        "     \\[\n",
        "     \\text{TF}(\\text{\"the\"}, d1) = \\frac{2}{6}\n",
        "     \\]\n",
        "\n",
        "2. **Document Frequency (DF)**:\n",
        "   - \"cat\" appears in 2 documents.\n",
        "   - \"the\" appears in all 3 documents.\n",
        "\n",
        "3. **Inverse Document Frequency (IDF)**:\n",
        "   - For the word \"cat\":\n",
        "     \\[\n",
        "     \\text{IDF}(\\text{\"cat\"}) = \\log \\left( \\frac{3}{2} \\right) \\approx 0.176\n",
        "     \\]\n",
        "   - For the word \"the\":\n",
        "     \\[\n",
        "     \\text{IDF}(\\text{\"the\"}) = \\log \\left( \\frac{3}{3} \\right) = 0\n",
        "     \\]\n",
        "\n",
        "4. **TF-IDF Score**:\n",
        "   - For \"cat\" in the first document:\n",
        "     \\[\n",
        "     \\text{TF-IDF}(\\text{\"cat\"}, d1) = \\frac{1}{6} \\times 0.176 \\approx 0.029\n",
        "     \\]\n",
        "   - For \"the\" in the first document:\n",
        "     \\[\n",
        "     \\text{TF-IDF}(\\text{\"the\"}, d1) = \\frac{2}{6} \\times 0 = 0\n",
        "     \\]\n",
        "\n",
        "### Visualizing TF-IDF Features\n",
        "\n",
        "Consider the TF-IDF matrix as an example:\n",
        "\n",
        "| Document \\ Term | cat  | dog  | sat  | mat  | log  | chased | the  | on   |\n",
        "|-----------------|------|------|------|------|------|--------|------|------|\n",
        "| Document 1      | 0.029| 0    | ...  | ...  | ...  | ...    | 0    | ...  |\n",
        "| Document 2      | 0    | ...  | ...  | ...  | ...  | ...    | 0    | ...  |\n",
        "| Document 3      | ...  | ...  | ...  | ...  | ...  | ...    | 0    | ...  |\n",
        "\n",
        "In practice, the actual values would depend on the full calculation across all terms and documents.\n",
        "\n",
        "### Practical Usage in Code\n",
        "\n",
        "In Python, using `TfidfVectorizer` from `sklearn.feature_extraction.text`, this can be easily implemented and applied as shown in the previous examples. The `TfidfVectorizer` will handle the calculation of TF-IDF scores for you.\n",
        "\n",
        "```python\n",
        "from sklearn.feature_extraction.text import TfidfVectorizer\n",
        "\n",
        "# Example documents\n",
        "documents = [\n",
        "    \"the cat sat on the mat\",\n",
        "    \"the dog sat on the log\",\n",
        "    \"the cat chased the dog\"\n",
        "]\n",
        "\n",
        "# Initialize the TF-IDF Vectorizer\n",
        "vectorizer = TfidfVectorizer()\n",
        "\n",
        "# Fit and transform the documents\n",
        "tfidf_matrix = vectorizer.fit_transform(documents)\n",
        "\n",
        "# Get feature names\n",
        "feature_names = vectorizer.get_feature_names_out()\n",
        "\n",
        "# Convert to dense matrix to inspect\n",
        "dense_matrix = tfidf_matrix.toarray()\n",
        "\n",
        "# Print the TF-IDF matrix\n",
        "print(\"TF-IDF Matrix:\")\n",
        "print(dense_matrix)\n",
        "\n",
        "# Print feature names\n",
        "print(\"Feature Names:\")\n",
        "print(feature_names)\n",
        "```\n",
        "\n",
        "### Output Interpretation\n",
        "\n",
        "- **TF-IDF Matrix**: Each row corresponds to a document and each column corresponds to a term. The values are the TF-IDF scores.\n",
        "- **Feature Names**: These are the terms corresponding to each column of the matrix.\n",
        "\n",
        "By using TF-IDF, we can effectively weigh the terms in documents for various tasks such as text classification, clustering, and information retrieval, leading to more meaningful and accurate results."
      ],
      "metadata": {
        "id": "dov-fexTeAg4"
      }
    },
    {
      "cell_type": "code",
      "source": [
        "from sklearn.feature_extraction.text import TfidfVectorizer\n",
        "\n",
        "# Example documents\n",
        "documents = [\n",
        "    \"the cat sat on the mat\",\n",
        "    \"the dog sat on the log\",\n",
        "    \"the cat chased the dog\"\n",
        "]\n",
        "\n",
        "# Initialize the TF-IDF Vectorizer\n",
        "vectorizer = TfidfVectorizer()\n",
        "\n",
        "# Fit and transform the documents\n",
        "tfidf_matrix = vectorizer.fit_transform(documents)\n",
        "\n",
        "# Get feature names\n",
        "feature_names = vectorizer.get_feature_names_out()\n",
        "\n",
        "# Convert to dense matrix to inspect\n",
        "dense_matrix = tfidf_matrix.toarray()\n",
        "\n",
        "# Print the TF-IDF matrix\n",
        "print(\"TF-IDF Matrix:\")\n",
        "print(dense_matrix)\n",
        "\n",
        "# Print feature names\n",
        "print(\"Feature Names:\")\n",
        "print(feature_names)\n"
      ],
      "metadata": {
        "colab": {
          "base_uri": "https://localhost:8080/"
        },
        "id": "wzquF1V8cGQU",
        "outputId": "5df21cb2-bbed-4ea9-bd29-842d7b0a0f22"
      },
      "execution_count": 23,
      "outputs": [
        {
          "output_type": "stream",
          "name": "stdout",
          "text": [
            "TF-IDF Matrix:\n",
            "[[0.37420726 0.         0.         0.         0.49203758 0.37420726\n",
            "  0.37420726 0.58121064]\n",
            " [0.         0.         0.37420726 0.49203758 0.         0.37420726\n",
            "  0.37420726 0.58121064]\n",
            " [0.40352536 0.53058735 0.40352536 0.         0.         0.\n",
            "  0.         0.62674687]]\n",
            "Feature Names:\n",
            "['cat' 'chased' 'dog' 'log' 'mat' 'on' 'sat' 'the']\n"
          ]
        }
      ]
    },
    {
      "cell_type": "code",
      "source": [],
      "metadata": {
        "id": "QC65HJu0dtHt"
      },
      "execution_count": null,
      "outputs": []
    }
  ]
}