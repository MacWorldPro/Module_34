{
  "nbformat": 4,
  "nbformat_minor": 0,
  "metadata": {
    "colab": {
      "provenance": [],
      "authorship_tag": "ABX9TyP9Xuf2WfAYxxmVsmKQIU3W",
      "include_colab_link": true
    },
    "kernelspec": {
      "name": "python3",
      "display_name": "Python 3"
    },
    "language_info": {
      "name": "python"
    }
  },
  "cells": [
    {
      "cell_type": "markdown",
      "metadata": {
        "id": "view-in-github",
        "colab_type": "text"
      },
      "source": [
        "<a href=\"https://colab.research.google.com/github/MacWorldPro/Module_34/blob/main/Module_36.ipynb\" target=\"_parent\"><img src=\"https://colab.research.google.com/assets/colab-badge.svg\" alt=\"Open In Colab\"/></a>"
      ]
    },
    {
      "cell_type": "markdown",
      "source": [
        "Q1:\n",
        "Matplotlib is a plotting library of python that provides many plotting modules and functions. Scatter , bar, pie ,line , histogram."
      ],
      "metadata": {
        "id": "sAmgwA9uH8Ea"
      }
    },
    {
      "cell_type": "markdown",
      "source": [
        "Q2:\n",
        "\n",
        "Scatter Plot is a plot provided by pyplot module of matplotlib. It helps in representing large chunk of data in form of visual representation"
      ],
      "metadata": {
        "id": "BnGdPgB5Ija_"
      }
    },
    {
      "cell_type": "code",
      "execution_count": 1,
      "metadata": {
        "id": "aZzwSLSXHLxI"
      },
      "outputs": [],
      "source": [
        "import numpy as np\n",
        "import matplotlib.pyplot as plt\n",
        "np.random.seed(3)\n",
        "x = 3 + np.random.normal(0, 2, 50)\n",
        "y = 3 + np.random.normal(0, 2, len(x))"
      ]
    },
    {
      "cell_type": "code",
      "source": [
        "plt.scatter(x,y)\n",
        "plt.xlabel('X')\n",
        "plt.ylabel('Y')\n",
        "plt.title('Normal Distribution Curve')"
      ],
      "metadata": {
        "id": "STV9DnJ2KB-i"
      },
      "execution_count": null,
      "outputs": []
    },
    {
      "cell_type": "markdown",
      "source": [
        "Q3:\n",
        "Suppose in a condition we want more than one plot to come in a single frame, we use subplot.\n"
      ],
      "metadata": {
        "id": "9q9jpCG-KQ2-"
      }
    },
    {
      "cell_type": "code",
      "source": [
        "# Plot 1\n",
        "xa = np.array([0, 1, 2, 3, 4, 5])\n",
        "ya = np.array([0, 100, 200, 300, 400, 500])"
      ],
      "metadata": {
        "id": "GFih1JRJKhY3"
      },
      "execution_count": 7,
      "outputs": []
    },
    {
      "cell_type": "code",
      "source": [
        "# Plot 2\n",
        "xb = np.array([0, 1, 2, 3, 4, 5])\n",
        "yb = np.array([50, 20, 40, 20, 60, 70])"
      ],
      "metadata": {
        "id": "Uj5oShftKpSo"
      },
      "execution_count": 8,
      "outputs": []
    },
    {
      "cell_type": "code",
      "source": [
        "# Plot 3\n",
        "xc = np.array([0, 1, 2, 3, 4, 5])\n",
        "yc = np.array([10, 20, 30, 40, 50, 60])"
      ],
      "metadata": {
        "id": "9nr-5fEKKyKy"
      },
      "execution_count": 9,
      "outputs": []
    },
    {
      "cell_type": "code",
      "source": [
        "# Plot 4\n",
        "xd = np.array([0, 1, 2, 3, 4, 5])\n",
        "yd = np.array([200, 350, 250, 550, 450, 150])"
      ],
      "metadata": {
        "id": "UsdwAOWVK5uP"
      },
      "execution_count": 10,
      "outputs": []
    },
    {
      "cell_type": "code",
      "source": [
        "# Plotting all the plots in a single frame(Subplot)\n",
        "plt.subplot(4,1,1)\n",
        "plt.plot(xa,ya)\n",
        "plt.subplot(4,1,2)\n",
        "plt.plot(xb,yb)\n",
        "plt.subplot(4,1,3)\n",
        "plt.plot(xc,yc)\n",
        "plt.subplot(4,1,4)\n",
        "plt.plot(xd,yd)\n"
      ],
      "metadata": {
        "id": "R1nPt1ohLDo2"
      },
      "execution_count": null,
      "outputs": []
    },
    {
      "cell_type": "markdown",
      "source": [
        "Q4:\n",
        "A bar plot is a type of data visualization that displays categorical data with rectangular bars, where the length or height of each bar represents the frequency, count, or proportion of data within each category. Bar plots are commonly used to compare and visualize the distribution of categorical variables or to show the relationship between a categorical variable and a numerical variable.\n"
      ],
      "metadata": {
        "id": "gItBI8epMAsc"
      }
    },
    {
      "cell_type": "code",
      "source": [
        "import numpy as np\n",
        "company = np.array([\"Apple\", \"Microsoft\", \"Google\", \"AMD\"])\n",
        "profit = np.array([3000, 8000, 1000, 10000])"
      ],
      "metadata": {
        "id": "gp8k31QxMSvL"
      },
      "execution_count": 12,
      "outputs": []
    },
    {
      "cell_type": "code",
      "source": [
        "# Vertical BarPlot\n",
        "plt.bar(company,profit)"
      ],
      "metadata": {
        "id": "rvFpWGNcMV-q"
      },
      "execution_count": null,
      "outputs": []
    },
    {
      "cell_type": "code",
      "source": [
        "# Horizontal BarPlot\n",
        "plt.barh(company,profit)"
      ],
      "metadata": {
        "id": "4vctrgGdMj9I"
      },
      "execution_count": null,
      "outputs": []
    },
    {
      "cell_type": "markdown",
      "source": [
        "Q5:\n",
        "\n",
        "\n",
        "A box plot, also known as a box-and-whisker plot, is a graphical representation of the distribution of a dataset based on five summary statistics: minimum, first quartile (Q1), median (second quartile or Q2), third quartile (Q3), and maximum. It provides a concise summary of the distribution's central tendency, dispersion, and skewness, as well as identifying potential outliers within the data."
      ],
      "metadata": {
        "id": "Sm3ewCVLMs8l"
      }
    },
    {
      "cell_type": "code",
      "source": [
        "box1 = np.random.normal(100, 10, 200)\n",
        "box2 = np.random.normal(90, 20, 200)"
      ],
      "metadata": {
        "id": "QcOSK5NLNCHk"
      },
      "execution_count": 16,
      "outputs": []
    },
    {
      "cell_type": "code",
      "source": [
        "plt.boxplot(box1)"
      ],
      "metadata": {
        "id": "boM7gOBbNGM3"
      },
      "execution_count": null,
      "outputs": []
    },
    {
      "cell_type": "code",
      "source": [
        "plt.boxplot(box2)"
      ],
      "metadata": {
        "id": "d-0ZfybNNUSX"
      },
      "execution_count": null,
      "outputs": []
    }
  ]
}