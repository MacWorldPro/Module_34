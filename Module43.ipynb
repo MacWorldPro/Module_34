{
  "nbformat": 4,
  "nbformat_minor": 0,
  "metadata": {
    "colab": {
      "provenance": [],
      "authorship_tag": "ABX9TyMmwAog0WalVxLQK0g72z+p",
      "include_colab_link": true
    },
    "kernelspec": {
      "name": "python3",
      "display_name": "Python 3"
    },
    "language_info": {
      "name": "python"
    }
  },
  "cells": [
    {
      "cell_type": "markdown",
      "metadata": {
        "id": "view-in-github",
        "colab_type": "text"
      },
      "source": [
        "<a href=\"https://colab.research.google.com/github/MacWorldPro/Module_34/blob/main/Module43.ipynb\" target=\"_parent\"><img src=\"https://colab.research.google.com/assets/colab-badge.svg\" alt=\"Open In Colab\"/></a>"
      ]
    },
    {
      "cell_type": "markdown",
      "source": [
        "Q1:\n",
        "\n",
        "Mean, Median and Mode are three measures of central tendencies."
      ],
      "metadata": {
        "id": "QrGmZWTObnZs"
      }
    },
    {
      "cell_type": "markdown",
      "source": [],
      "metadata": {
        "id": "A8QZSfr8bo84"
      }
    },
    {
      "cell_type": "markdown",
      "source": [
        "Q2:\n",
        "\n",
        "Mean is basically average of all the available values in a dataset.\n",
        "\n",
        "Median is the middle value of the dataset (if odd) otherwise average of two values available at middle position.\n",
        "\n",
        "Mode is count of maximum frequency of a value which is present in a dataset.\n",
        "\n",
        "These all are used in EDA and feature engineering."
      ],
      "metadata": {
        "id": "plz9yW-abpYR"
      }
    },
    {
      "cell_type": "code",
      "source": [
        "Q3:\n",
        "\n",
        "\n",
        "import pandas as pd\n",
        "\n",
        "x=[178,177,176,177,178.2,178,175,179,180,175,178.9,176.2,177,172.5,178,176.5]\n",
        "y= pd.DataFrame(x)\n",
        "y.mean()\n",
        "y.median()\n",
        "y.mode().iloc[0]\n",
        "\n"
      ],
      "metadata": {
        "id": "yZM7LUIVcjo7"
      },
      "execution_count": null,
      "outputs": []
    },
    {
      "cell_type": "code",
      "source": [
        "Q4:\n",
        "\n",
        "import pandas as pd\n",
        "x=[178,177,176,177,178.2,178,175,179,180,175,178.9,176.2,177,172.5,178,176.5]\n",
        "y= pd.DataFrame(x)\n",
        "y.std()"
      ],
      "metadata": {
        "id": "vOus1yX-dyJ1"
      },
      "execution_count": null,
      "outputs": []
    },
    {
      "cell_type": "markdown",
      "source": [
        "Q5:\n",
        "\n",
        "Measures of dispersion quantify the spread of data in a dataset. Range gives the difference between the highest and lowest values. Variance calculates the average squared deviation from the mean, and standard deviation is its square root. For instance, a high standard deviation implies more variability in test scores, indicating diverse performance levels."
      ],
      "metadata": {
        "id": "Hncpq7t1bqCH"
      }
    },
    {
      "cell_type": "markdown",
      "source": [
        "Q6:\n",
        "\n",
        "Venn Diagram is used to describe set or operation of set visually through diagrams called venn diagrams."
      ],
      "metadata": {
        "id": "wbNI_IU7bqXN"
      }
    },
    {
      "cell_type": "markdown",
      "source": [
        "Q7:\n",
        "\n",
        "i. 2,6\n",
        "\n",
        "ii. 0,2,3,4,5,6,7,8,10"
      ],
      "metadata": {
        "id": "mml2cDNvbqrY"
      }
    },
    {
      "cell_type": "markdown",
      "source": [],
      "metadata": {
        "id": "275RwI6fbrCM"
      }
    },
    {
      "cell_type": "markdown",
      "source": [
        "Q8:\n",
        "\n",
        "Skewness in data refers to the asymmetry in its distribution. A dataset is positively skewed if the tail on the right side of the distribution is longer or fatter than the left side, and negatively skewed if the tail on the left side is longer. Skewness helps understand the shape and symmetry of data distributions."
      ],
      "metadata": {
        "id": "ki1EPE1fbrZK"
      }
    },
    {
      "cell_type": "markdown",
      "source": [
        "Q9:\n",
        "\n",
        "Median will be at the left of mean."
      ],
      "metadata": {
        "id": "teJLNn4hbrxs"
      }
    },
    {
      "cell_type": "markdown",
      "source": [
        "Q10:\n",
        "\n",
        "Covariance measures the direction of the linear relationship between variables, while correlation provides a standardized measure of the strength and direction of this relationship. Correlation ranges from -1 to 1, making it easier to interpret and compare across datasets, unlike covariance, which depends on variable units."
      ],
      "metadata": {
        "id": "BpLAQxHZgK7v"
      }
    },
    {
      "cell_type": "markdown",
      "source": [
        "Q11:\n",
        "\n",
        "The formula for calculating the sample mean (\\( \\bar{x} \\)) is:\n",
        "\n",
        "\\[ \\bar{x} = \\frac{\\sum_{i=1}^{n} x_i}{n} \\]\n",
        "\n",
        "where:\n",
        "- \\( \\bar{x} \\) is the sample mean,\n",
        "- \\( x_i \\) represents each individual value in the dataset, and\n",
        "- \\( n \\) is the total number of observations in the dataset.\n",
        "\n",
        "Here's an example calculation for a dataset:\n",
        "\n",
        "Dataset: [10, 15, 20, 25, 30]\n",
        "\n",
        "Calculation:\n",
        "\\[ \\bar{x} = \\frac{10 + 15 + 20 + 25 + 30}{5} \\]\n",
        "\\[ \\bar{x} = \\frac{100}{5} \\]\n",
        "\\[ \\bar{x} = 20 \\]\n",
        "\n",
        "So, the sample mean of the dataset is 20."
      ],
      "metadata": {
        "id": "C3hGPCKPg-sX"
      }
    },
    {
      "cell_type": "markdown",
      "source": [
        "Q12:\n",
        "\n",
        "In a normal distribution, the mean, median, and mode are equal, all located at the center of the distribution."
      ],
      "metadata": {
        "id": "oG_AYBJ3ha7l"
      }
    },
    {
      "cell_type": "markdown",
      "source": [
        "Q13:\n",
        "\n",
        "Covariance just describes the direction of relation but corelation with direction also gives information about strenght of the relation."
      ],
      "metadata": {
        "id": "OdqL4YbchdNV"
      }
    },
    {
      "cell_type": "markdown",
      "source": [
        "Q14:\n",
        "\n",
        "Outliers can significantly influence measures of central tendency and dispersion. For example, outliers can inflate the mean, causing it to be higher or lower than expected. Similarly, outliers can increase the standard deviation, indicating greater variability in the data."
      ],
      "metadata": {
        "id": "-pIZ9YEUhnnU"
      }
    }
  ]
}