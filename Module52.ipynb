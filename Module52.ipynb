{
  "nbformat": 4,
  "nbformat_minor": 0,
  "metadata": {
    "colab": {
      "provenance": [],
      "authorship_tag": "ABX9TyOiDr7j0vSXovwKODUD9FOv",
      "include_colab_link": true
    },
    "kernelspec": {
      "name": "python3",
      "display_name": "Python 3"
    },
    "language_info": {
      "name": "python"
    }
  },
  "cells": [
    {
      "cell_type": "markdown",
      "metadata": {
        "id": "view-in-github",
        "colab_type": "text"
      },
      "source": [
        "<a href=\"https://colab.research.google.com/github/MacWorldPro/Module_34/blob/main/Module52.ipynb\" target=\"_parent\"><img src=\"https://colab.research.google.com/assets/colab-badge.svg\" alt=\"Open In Colab\"/></a>"
      ]
    },
    {
      "cell_type": "markdown",
      "source": [
        "\n",
        "\n",
        "Q1) **Artificial Intelligence (AI):** Artificial Intelligence refers to the simulation of human intelligence in machines that are programmed to think and mimic human actions.\n",
        "\n",
        "   **Machine Learning (ML):** Machine Learning is a subset of AI that provides systems the ability to automatically learn and improve from experience without being explicitly programmed.\n",
        "\n",
        "   **Deep Learning (DL):** Deep Learning is a subset of ML that deals with neural networks with many layers, allowing for the learning of intricate patterns in large amounts of data.\n",
        "\n",
        "   **Data Science (DS):** Data Science involves extracting insights and knowledge from structured and unstructured data using scientific methods, processes, algorithms, and systems.\n",
        "\n",
        "Q2) **Supervised Learning:** Supervised learning is a type of machine learning where the model is trained on labeled data, and the goal is to learn a mapping from inputs to outputs. Examples include email spam detection, sentiment analysis, and image recognition.\n",
        "\n",
        "Q3) **Unsupervised Learning:** Unsupervised learning is a type of machine learning where the model is trained on unlabeled data, and the goal is to find hidden patterns or intrinsic structures in the input data. Examples include clustering, dimensionality reduction, and association rule learning.\n",
        "\n",
        "Q4) The main differences between AI, ML, DL, and DS are in their scope and methodology. AI is the broader concept of creating machines that can simulate human intelligence. ML is a subset of AI, focusing on algorithms that can learn from data to make predictions or decisions. DL is a subset of ML, specifically using neural networks with multiple layers to learn intricate patterns. DS is an interdisciplinary field that combines domain knowledge, programming skills, and statistical techniques to extract insights from data.\n",
        "\n",
        "Q5) The main differences between supervised, unsupervised, and semi-supervised learning lie in the type of data used for training and the goals of the learning process. Supervised learning uses labeled data with input-output pairs, unsupervised learning uses unlabeled data to find hidden patterns, and semi-supervised learning uses a combination of labeled and unlabeled data.\n",
        "\n",
        "Q6) **Train-Test-Validation Split:** In machine learning, the dataset is usually split into three subsets: the training set, used to train the model; the test set, used to evaluate the model's performance; and the validation set, used to tune hyperparameters and prevent overfitting. This split is crucial for assessing a model's generalization ability.\n",
        "\n",
        "Q7) Unsupervised learning can be used in anomaly detection by identifying patterns in data and flagging instances that deviate significantly from the norm. By learning the underlying structure of the data, unsupervised algorithms can detect anomalies without requiring labeled examples of anomalies.\n",
        "\n",
        "Q8) **Commonly used supervised learning algorithms:** Linear Regression, Logistic Regression, Decision Trees, Random Forest, Support Vector Machines (SVM), Naive Bayes, K-Nearest Neighbors (KNN).\n",
        "\n",
        "   **Commonly used unsupervised learning algorithms:** K-Means Clustering, Hierarchical Clustering, Principal Component Analysis (PCA), t-Distributed Stochastic Neighbor Embedding (t-SNE), Apriori Algorithm."
      ],
      "metadata": {
        "id": "XAy9K2F8ScA1"
      }
    }
  ]
}