{
  "nbformat": 4,
  "nbformat_minor": 0,
  "metadata": {
    "colab": {
      "provenance": [],
      "authorship_tag": "ABX9TyPvtQYuKb49YJn3qZBC6BEc",
      "include_colab_link": true
    },
    "kernelspec": {
      "name": "python3",
      "display_name": "Python 3"
    },
    "language_info": {
      "name": "python"
    }
  },
  "cells": [
    {
      "cell_type": "markdown",
      "metadata": {
        "id": "view-in-github",
        "colab_type": "text"
      },
      "source": [
        "<a href=\"https://colab.research.google.com/github/MacWorldPro/Module_34/blob/main/Module49.ipynb\" target=\"_parent\"><img src=\"https://colab.research.google.com/assets/colab-badge.svg\" alt=\"Open In Colab\"/></a>"
      ]
    },
    {
      "cell_type": "markdown",
      "source": [
        "Q1:\n",
        "\n",
        "Assumptions Used in ANNOVA test are as follows:\n",
        "\n",
        "a)The distribution of sample mean is normally distributed.\n",
        "b)Outliers should not be present,if present first all the outliers should be removed.\n",
        "c)Homogenity of variance. Variance of each level should be same.\n",
        "d)Samples are independent and random."
      ],
      "metadata": {
        "id": "-eB83fuCVvZK"
      }
    },
    {
      "cell_type": "markdown",
      "source": [
        "Q2:\n",
        "\n",
        "Tyoes if ANOVA:\n",
        "1) One Way: One factor with atleast two levels and they are independent.\n",
        "2)Repeated Measures ANOVA: One factor with atleast two levels and they are dependent.\n",
        "3)Factorial: Two or more factors with atleast two levels and they can be dependent as well as independent."
      ],
      "metadata": {
        "id": "5DLfxomWXUY6"
      }
    },
    {
      "cell_type": "markdown",
      "source": [
        "Q3:\n",
        "\n",
        "In Analysis of Variance (ANOVA), partitioning of variance is the process of dividing the total variance in a data set into different sources of variation. This is done by partitioning the total sum of squares into several components, each of which can be tested separately.\n",
        "\n",
        "Partitioning variance is an important concept in statistics because it allows scientists to understand the relative contributions of all sources of variation. In ANOVA, the variance is partitioned into three components:\n",
        "Within-group variance: Represents the variability of scores within each group\n",
        "Between-group variance: Represents the variability of scores between the groups\n",
        "Error variance: Represents the variability of scores that cannot be explained by the treatment or the grouping variable."
      ],
      "metadata": {
        "id": "PzwdVwapYC7J"
      }
    },
    {
      "cell_type": "code",
      "execution_count": null,
      "metadata": {
        "id": "4CEtkAbAU9TE"
      },
      "outputs": [],
      "source": [
        "# Q4:\n",
        "\n",
        "import numpy as np\n",
        "import pandas as pd\n",
        "\n",
        "data={'15mg':[9,8,7,8,8,9,8],\n",
        "      '30mg':[7,6,6,7,8,7,6],\n",
        "      '45mg':[4,3,2,3,4,3,2]}\n",
        "df=pd.DataFrame(data)\n",
        "N=df.shape[0]*df.shape[1]\n",
        "n=df.shape[0]\n",
        "a=N/n\n",
        "\n",
        "# SS between\n",
        "col1_sum=df['15mg'].sum()\n",
        "col2_sum=df['30mg'].sum()\n",
        "col3_sum=df['45mg'].sum()\n",
        "\n",
        "ai=(df['15mg']**2).sum()+(df['30mg']**2).sum()+(df['45mg']**2).sum()\n",
        "T=col1_sum**2+col2_sum**2+col3_sum**2\n",
        "SSB=(ai/n)-(T/N)\n",
        "\n",
        "# SS within\n",
        "Y=(df['15mg']**2).sum()+(df['30mg']**2).sum()+(df['45mg']**2).sum()\n",
        "SSW=Y-(ai/n)\n",
        "\n",
        "# SS Total\n",
        "SST=SSB+SSW\n",
        "\n",
        "print(\"SSB\",SSB)\n",
        "print(\"SSW\",SSW)\n",
        "print(\"SST\",SST)\n",
        "\n"
      ]
    },
    {
      "cell_type": "code",
      "source": [
        "# Q5:\n",
        "\n",
        "import pandas as pd\n",
        "import statsmodels.api as sm\n",
        "from statsmodels.formula.api import ols\n",
        "\n",
        "# Example data\n",
        "data = {\n",
        "    'Factor1': ['Low', 'Low', 'Low', 'High', 'High', 'High'],\n",
        "    'Factor2': ['Beginner', 'Intermediate', 'Advanced', 'Beginner', 'Intermediate', 'Advanced'],\n",
        "    'Response': [20, 21, 19, 25, 26, 24]\n",
        "}\n",
        "\n",
        "df = pd.DataFrame(data)\n",
        "\n",
        "# Model: Response ~ Factor1 + Factor2 + Factor1:Factor2\n",
        "model = ols('Response ~ C(Factor1) + C(Factor2) + C(Factor1):C(Factor2)', data=df).fit()\n",
        "\n",
        "# ANOVA table\n",
        "anova_results = sm.stats.anova_lm(model, typ=2)\n",
        "print(anova_results)\n"
      ],
      "metadata": {
        "id": "7WT6uWBF3ekJ"
      },
      "execution_count": null,
      "outputs": []
    },
    {
      "cell_type": "markdown",
      "source": [
        "Q6:\n",
        "\n",
        "A p-value of less than 0.05 indicates a statistically significant test result, meaning that the test hypothesis is false or should be rejected. A p-value greater than 0.05 means that no effect was observed."
      ],
      "metadata": {
        "id": "_KeMjBo07X7_"
      }
    },
    {
      "cell_type": "markdown",
      "source": [
        "Q7:\n",
        "\n",
        "Loss of subjects in a repeated measures ANOVA due to missing data can be a serious problem. If you use proc glm to perform you analysis, it will omit observations listwise, meaning that if any of the observations for a subject are missing, the entire subject will be omitted from the analysis."
      ],
      "metadata": {
        "id": "EaKb9ZS27mJJ"
      }
    },
    {
      "cell_type": "markdown",
      "source": [
        "Q8:\n",
        "\n",
        "The post hoc test I'll use is Tukey's method. There are a variety of post hoc tests you can choose from, but Tukey's method is the most common for comparing all possible group pairings. There are two ways to present post hoc test results—adjusted p-values and simultaneous confidence intervals."
      ],
      "metadata": {
        "id": "mTAY8qqq7zBN"
      }
    },
    {
      "cell_type": "code",
      "source": [
        "# Q9:\n",
        "\n",
        "# Importing library\n",
        "from scipy.stats import f_oneway\n",
        "\n",
        "# Performance when each of the engine\n",
        "# oil is applied\n",
        "performance1 = [89, 89, 88, 78, 79]\n",
        "performance2 = [93, 92, 94, 89, 88]\n",
        "performance3 = [89, 88, 89, 93, 90]\n",
        "performance4 = [81, 78, 81, 92, 82]\n",
        "\n",
        "# Conduct the one-way ANOVA\n",
        "f_oneway(performance1, performance2, performance3, performance4)\n"
      ],
      "metadata": {
        "id": "vwTN2FGl8Mz1"
      },
      "execution_count": null,
      "outputs": []
    },
    {
      "cell_type": "code",
      "source": [
        "# Q10:\n",
        "\n",
        "# Importing libraries\n",
        "import statsmodels.api as sm\n",
        "from statsmodels.formula.api import ols\n",
        "\n",
        "# Create a dataframe\n",
        "dataframe = pd.DataFrame({'Fertilizer': np.repeat(['daily', 'weekly'], 15),\n",
        "\t\t\t\t\t\t'Watering': np.repeat(['daily', 'weekly'], 15),\n",
        "\t\t\t\t\t\t'height': [14, 16, 15, 15, 16, 13, 12, 11,\n",
        "\t\t\t\t\t\t\t\t\t14, 15, 16, 16, 17, 18, 14, 13,\n",
        "\t\t\t\t\t\t\t\t\t14, 14, 14, 15, 16, 16, 17, 18,\n",
        "\t\t\t\t\t\t\t\t\t14, 13, 14, 14, 14, 15]})\n",
        "\n",
        "\n",
        "# Performing two-way ANOVA\n",
        "model = ols('height ~ C(Fertilizer) + C(Watering) +\\\n",
        "C(Fertilizer):C(Watering)',\n",
        "\t\t\tdata=dataframe).fit()\n",
        "result = sm.stats.anova_lm(model, type=2)\n",
        "\n",
        "# Print the result\n",
        "print(result)\n"
      ],
      "metadata": {
        "id": "VVks0VIn8Ofe"
      },
      "execution_count": null,
      "outputs": []
    },
    {
      "cell_type": "code",
      "source": [
        "# Q11:\n",
        "\n",
        "# Importing libraries\n",
        "import statsmodels.api as sm\n",
        "from statsmodels.formula.api import ols\n",
        "\n",
        "# Create a dataframe\n",
        "dataframe = pd.DataFrame({'Fertilizer': np.repeat(['daily', 'weekly'], 15),\n",
        "\t\t\t\t\t\t'Watering': np.repeat(['daily', 'weekly'], 15),\n",
        "\t\t\t\t\t\t'height': [14, 16, 15, 15, 16, 13, 12, 11,\n",
        "\t\t\t\t\t\t\t\t\t14, 15, 16, 16, 17, 18, 14, 13,\n",
        "\t\t\t\t\t\t\t\t\t14, 14, 14, 15, 16, 16, 17, 18,\n",
        "\t\t\t\t\t\t\t\t\t14, 13, 14, 14, 14, 15]})\n",
        "\n",
        "\n",
        "# Performing two-way ANOVA\n",
        "model = ols('height ~ C(Fertilizer) + C(Watering) +\\\n",
        "C(Fertilizer):C(Watering)',\n",
        "\t\t\tdata=dataframe).fit()\n",
        "result = sm.stats.anova_lm(model, type=2)\n",
        "\n",
        "# Print the result\n",
        "print(result)\n"
      ],
      "metadata": {
        "id": "VJyeOD6D9hYm"
      },
      "execution_count": null,
      "outputs": []
    },
    {
      "cell_type": "code",
      "source": [
        "# Q12:\n",
        "\n",
        "# Import library\n",
        "import numpy as np\n",
        "import pandas as pd\n",
        "from statsmodels.stats.anova import AnovaRM\n",
        "\n",
        "# Create the data\n",
        "dataframe = pd.DataFrame({'Cars': np.repeat([1, 2, 3, 4, 5], 4),\n",
        "\t\t\t\t\t\t'Oil': np.tile([1, 2, 3, 4], 5),\n",
        "\t\t\t\t\t\t'Mileage': [36, 38, 30, 29,\n",
        "\t\t\t\t\t\t\t\t\t34, 38, 30, 29,\n",
        "\t\t\t\t\t\t\t\t\t34, 28, 38, 32,\n",
        "\t\t\t\t\t\t\t\t\t38, 34, 20, 44,\n",
        "\t\t\t\t\t\t\t\t\t26, 28, 34, 50]})\n",
        "\n",
        "# Conduct the repeated measures ANOVA\n",
        "print(AnovaRM(data=dataframe, depvar='Mileage',\n",
        "\t\t\tsubject='Cars', within=['Oil']).fit())\n"
      ],
      "metadata": {
        "id": "5Ifo77zZ-XJ2"
      },
      "execution_count": null,
      "outputs": []
    }
  ]
}